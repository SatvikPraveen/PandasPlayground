{
 "cells": [
  {
   "cell_type": "markdown",
   "id": "b62a48ef",
   "metadata": {},
   "source": [
    "# 🧩 Notebook 04: Merging, Joining & Concatenation\n",
    "\n",
    "In this notebook, we explore how to:\n",
    "- Merge datasets column-wise using `pd.merge()` and `safe_merge()`\n",
    "- Concatenate datasets row-wise using `pd.concat()` and `safe_concat()`\n",
    "- Handle key mismatches, suffixes, duplicates\n",
    "- Apply post-merge operations like `.cumsum()` and `.rolling()`"
   ]
  },
  {
   "cell_type": "code",
   "execution_count": 1,
   "id": "cf5b6926",
   "metadata": {},
   "outputs": [],
   "source": [
    "# Notebook import setup\n",
    "import sys\n",
    "from pathlib import Path\n",
    "\n",
    "PROJECT_ROOT = Path.cwd().parent\n",
    "if str(PROJECT_ROOT) not in sys.path:\n",
    "    sys.path.append(str(PROJECT_ROOT))\n",
    "\n",
    "from scripts import utils_io"
   ]
  },
  {
   "cell_type": "code",
   "execution_count": 2,
   "id": "562ea56d",
   "metadata": {},
   "outputs": [
    {
     "name": "stdout",
     "output_type": "stream",
     "text": [
      "✅ Concatenated 4 DataFrames — shape: (40000, 8)\n"
     ]
    }
   ],
   "source": [
    "from pathlib import Path\n",
    "from scripts import utils_io, agg_utils\n",
    "\n",
    "ASSETS_DIR = Path(\"../assets\")\n",
    "\n",
    "# Load individual cleaned regional loan files\n",
    "loan_east = utils_io.load_csv(ASSETS_DIR / \"loan_final_east.csv\")\n",
    "loan_west = utils_io.load_csv(ASSETS_DIR / \"loan_final_west.csv\")\n",
    "loan_south = utils_io.load_csv(ASSETS_DIR / \"loan_final_south.csv\")\n",
    "loan_north = utils_io.load_csv(ASSETS_DIR / \"loan_final_north.csv\")\n",
    "\n",
    "# Concatenate using safe_concat\n",
    "all_loans = agg_utils.safe_concat(\n",
    "    [loan_east, loan_west, loan_south, loan_north],\n",
    "    axis=0,\n",
    "    ignore_index=True,\n",
    "    check_columns=True\n",
    ")\n",
    "\n",
    "# Save for reuse\n",
    "utils_io.save_csv(all_loans, ASSETS_DIR / \"loan_final_all_regions.csv\")\n"
   ]
  },
  {
   "cell_type": "code",
   "execution_count": 3,
   "id": "7c0149f8",
   "metadata": {},
   "outputs": [],
   "source": [
    "# Imports & Dataset Loading (Code Cell)\n",
    "import pandas as pd\n",
    "import numpy as np\n",
    "\n",
    "# Load datasets\n",
    "superstore = utils_io.load_csv(\"../assets/superstore_final.csv\")\n",
    "loan = utils_io.load_csv(\"../assets/loan_final_all_regions.csv\")\n",
    "covid = utils_io.load_csv(\"../assets/covid_final.csv\")\n",
    "weather = utils_io.load_csv(\"../assets/weather_final.csv\")\n",
    "\n",
    "# Convert date columns\n",
    "superstore[\"order_date\"] = pd.to_datetime(superstore[\"order_date\"])\n",
    "covid[\"date\"] = pd.to_datetime(covid[\"date\"])\n",
    "weather[\"date\"] = pd.to_datetime(weather[\"date\"])"
   ]
  },
  {
   "cell_type": "markdown",
   "id": "f5942f09",
   "metadata": {},
   "source": [
    "## 🧾 Dataset Preview\n",
    "\n",
    "Let’s preview column names and head of each dataset."
   ]
  },
  {
   "cell_type": "code",
   "execution_count": 4,
   "id": "3d4881ee",
   "metadata": {},
   "outputs": [
    {
     "name": "stdout",
     "output_type": "stream",
     "text": [
      "\n",
      "📊 Superstore — shape: (10000, 14)\n",
      "['order_id', 'customer_id', 'customer_name', 'segment', 'region', 'order_date', 'ship_date', 'category', 'sub_category', 'product_name', 'sales', 'quantity', 'discount', 'profit']\n"
     ]
    },
    {
     "data": {
      "text/html": [
       "<div>\n",
       "<style scoped>\n",
       "    .dataframe tbody tr th:only-of-type {\n",
       "        vertical-align: middle;\n",
       "    }\n",
       "\n",
       "    .dataframe tbody tr th {\n",
       "        vertical-align: top;\n",
       "    }\n",
       "\n",
       "    .dataframe thead th {\n",
       "        text-align: right;\n",
       "    }\n",
       "</style>\n",
       "<table border=\"1\" class=\"dataframe\">\n",
       "  <thead>\n",
       "    <tr style=\"text-align: right;\">\n",
       "      <th></th>\n",
       "      <th>order_id</th>\n",
       "      <th>customer_id</th>\n",
       "      <th>customer_name</th>\n",
       "      <th>segment</th>\n",
       "      <th>region</th>\n",
       "      <th>order_date</th>\n",
       "      <th>ship_date</th>\n",
       "      <th>category</th>\n",
       "      <th>sub_category</th>\n",
       "      <th>product_name</th>\n",
       "      <th>sales</th>\n",
       "      <th>quantity</th>\n",
       "      <th>discount</th>\n",
       "      <th>profit</th>\n",
       "    </tr>\n",
       "  </thead>\n",
       "  <tbody>\n",
       "    <tr>\n",
       "      <th>0</th>\n",
       "      <td>ord-10000</td>\n",
       "      <td>cust-9476</td>\n",
       "      <td>mr. michael lopez</td>\n",
       "      <td>home office</td>\n",
       "      <td>central</td>\n",
       "      <td>2020-01-01</td>\n",
       "      <td>2020-01-03</td>\n",
       "      <td>furniture</td>\n",
       "      <td>bookcases</td>\n",
       "      <td>bookcases model 1</td>\n",
       "      <td>1292.63</td>\n",
       "      <td>5</td>\n",
       "      <td>0.3</td>\n",
       "      <td>22.94</td>\n",
       "    </tr>\n",
       "    <tr>\n",
       "      <th>1</th>\n",
       "      <td>ord-10001</td>\n",
       "      <td>cust-9162</td>\n",
       "      <td>robert liu</td>\n",
       "      <td>home office</td>\n",
       "      <td>south</td>\n",
       "      <td>2020-01-02</td>\n",
       "      <td>2020-01-04</td>\n",
       "      <td>furniture</td>\n",
       "      <td>bookcases</td>\n",
       "      <td>bookcases model 2</td>\n",
       "      <td>1947.16</td>\n",
       "      <td>2</td>\n",
       "      <td>0.3</td>\n",
       "      <td>205.52</td>\n",
       "    </tr>\n",
       "  </tbody>\n",
       "</table>\n",
       "</div>"
      ],
      "text/plain": [
       "    order_id customer_id      customer_name      segment   region order_date  \\\n",
       "0  ord-10000   cust-9476  mr. michael lopez  home office  central 2020-01-01   \n",
       "1  ord-10001   cust-9162         robert liu  home office    south 2020-01-02   \n",
       "\n",
       "    ship_date   category sub_category       product_name    sales  quantity  \\\n",
       "0  2020-01-03  furniture    bookcases  bookcases model 1  1292.63         5   \n",
       "1  2020-01-04  furniture    bookcases  bookcases model 2  1947.16         2   \n",
       "\n",
       "   discount  profit  \n",
       "0       0.3   22.94  \n",
       "1       0.3  205.52  "
      ]
     },
     "metadata": {},
     "output_type": "display_data"
    },
    {
     "name": "stdout",
     "output_type": "stream",
     "text": [
      "\n",
      "📊 Loan — shape: (40000, 8)\n",
      "['customer_id', 'customer_name', 'age', 'income', 'loan_amount', 'loan_purpose', 'approved', 'region']\n"
     ]
    },
    {
     "data": {
      "text/html": [
       "<div>\n",
       "<style scoped>\n",
       "    .dataframe tbody tr th:only-of-type {\n",
       "        vertical-align: middle;\n",
       "    }\n",
       "\n",
       "    .dataframe tbody tr th {\n",
       "        vertical-align: top;\n",
       "    }\n",
       "\n",
       "    .dataframe thead th {\n",
       "        text-align: right;\n",
       "    }\n",
       "</style>\n",
       "<table border=\"1\" class=\"dataframe\">\n",
       "  <thead>\n",
       "    <tr style=\"text-align: right;\">\n",
       "      <th></th>\n",
       "      <th>customer_id</th>\n",
       "      <th>customer_name</th>\n",
       "      <th>age</th>\n",
       "      <th>income</th>\n",
       "      <th>loan_amount</th>\n",
       "      <th>loan_purpose</th>\n",
       "      <th>approved</th>\n",
       "      <th>region</th>\n",
       "    </tr>\n",
       "  </thead>\n",
       "  <tbody>\n",
       "    <tr>\n",
       "      <th>0</th>\n",
       "      <td>1001</td>\n",
       "      <td>james reid</td>\n",
       "      <td>55</td>\n",
       "      <td>96964</td>\n",
       "      <td>36890</td>\n",
       "      <td>education</td>\n",
       "      <td>yes</td>\n",
       "      <td>east</td>\n",
       "    </tr>\n",
       "    <tr>\n",
       "      <th>1</th>\n",
       "      <td>1002</td>\n",
       "      <td>howard mathis</td>\n",
       "      <td>61</td>\n",
       "      <td>59846</td>\n",
       "      <td>56517</td>\n",
       "      <td>education</td>\n",
       "      <td>yes</td>\n",
       "      <td>east</td>\n",
       "    </tr>\n",
       "  </tbody>\n",
       "</table>\n",
       "</div>"
      ],
      "text/plain": [
       "   customer_id  customer_name  age  income  loan_amount loan_purpose approved  \\\n",
       "0         1001     james reid   55   96964        36890    education      yes   \n",
       "1         1002  howard mathis   61   59846        56517    education      yes   \n",
       "\n",
       "  region  \n",
       "0   east  \n",
       "1   east  "
      ]
     },
     "metadata": {},
     "output_type": "display_data"
    },
    {
     "name": "stdout",
     "output_type": "stream",
     "text": [
      "\n",
      "📊 COVID — shape: (10000, 6)\n",
      "['date', 'country', 'variant', 'new_cases', 'new_deaths', 'hospitalized']\n"
     ]
    },
    {
     "data": {
      "text/html": [
       "<div>\n",
       "<style scoped>\n",
       "    .dataframe tbody tr th:only-of-type {\n",
       "        vertical-align: middle;\n",
       "    }\n",
       "\n",
       "    .dataframe tbody tr th {\n",
       "        vertical-align: top;\n",
       "    }\n",
       "\n",
       "    .dataframe thead th {\n",
       "        text-align: right;\n",
       "    }\n",
       "</style>\n",
       "<table border=\"1\" class=\"dataframe\">\n",
       "  <thead>\n",
       "    <tr style=\"text-align: right;\">\n",
       "      <th></th>\n",
       "      <th>date</th>\n",
       "      <th>country</th>\n",
       "      <th>variant</th>\n",
       "      <th>new_cases</th>\n",
       "      <th>new_deaths</th>\n",
       "      <th>hospitalized</th>\n",
       "    </tr>\n",
       "  </thead>\n",
       "  <tbody>\n",
       "    <tr>\n",
       "      <th>0</th>\n",
       "      <td>2020-01-01</td>\n",
       "      <td>germany</td>\n",
       "      <td>omicron</td>\n",
       "      <td>512</td>\n",
       "      <td>10</td>\n",
       "      <td>613</td>\n",
       "    </tr>\n",
       "    <tr>\n",
       "      <th>1</th>\n",
       "      <td>2020-01-02</td>\n",
       "      <td>germany</td>\n",
       "      <td>xbb</td>\n",
       "      <td>524</td>\n",
       "      <td>11</td>\n",
       "      <td>1911</td>\n",
       "    </tr>\n",
       "  </tbody>\n",
       "</table>\n",
       "</div>"
      ],
      "text/plain": [
       "        date  country  variant  new_cases  new_deaths  hospitalized\n",
       "0 2020-01-01  germany  omicron        512          10           613\n",
       "1 2020-01-02  germany      xbb        524          11          1911"
      ]
     },
     "metadata": {},
     "output_type": "display_data"
    },
    {
     "name": "stdout",
     "output_type": "stream",
     "text": [
      "\n",
      "📊 Weather — shape: (10000, 4)\n",
      "['date', 'temperature_c', 'humidity', 'condition']\n"
     ]
    },
    {
     "data": {
      "text/html": [
       "<div>\n",
       "<style scoped>\n",
       "    .dataframe tbody tr th:only-of-type {\n",
       "        vertical-align: middle;\n",
       "    }\n",
       "\n",
       "    .dataframe tbody tr th {\n",
       "        vertical-align: top;\n",
       "    }\n",
       "\n",
       "    .dataframe thead th {\n",
       "        text-align: right;\n",
       "    }\n",
       "</style>\n",
       "<table border=\"1\" class=\"dataframe\">\n",
       "  <thead>\n",
       "    <tr style=\"text-align: right;\">\n",
       "      <th></th>\n",
       "      <th>date</th>\n",
       "      <th>temperature_c</th>\n",
       "      <th>humidity</th>\n",
       "      <th>condition</th>\n",
       "    </tr>\n",
       "  </thead>\n",
       "  <tbody>\n",
       "    <tr>\n",
       "      <th>0</th>\n",
       "      <td>2022-01-01</td>\n",
       "      <td>28</td>\n",
       "      <td>81</td>\n",
       "      <td>snow</td>\n",
       "    </tr>\n",
       "    <tr>\n",
       "      <th>1</th>\n",
       "      <td>2022-01-02</td>\n",
       "      <td>4</td>\n",
       "      <td>90</td>\n",
       "      <td>snow</td>\n",
       "    </tr>\n",
       "  </tbody>\n",
       "</table>\n",
       "</div>"
      ],
      "text/plain": [
       "        date  temperature_c  humidity condition\n",
       "0 2022-01-01             28        81      snow\n",
       "1 2022-01-02              4        90      snow"
      ]
     },
     "metadata": {},
     "output_type": "display_data"
    }
   ],
   "source": [
    "for name, df in {\n",
    "    \"Superstore\": superstore,\n",
    "    \"Loan\": loan,\n",
    "    \"COVID\": covid,\n",
    "    \"Weather\": weather\n",
    "}.items():\n",
    "    print(f\"\\n📊 {name} — shape: {df.shape}\")\n",
    "    print(df.columns.tolist())\n",
    "    display(df.head(2))"
   ]
  },
  {
   "cell_type": "code",
   "execution_count": 5,
   "id": "9fa4088b",
   "metadata": {},
   "outputs": [],
   "source": [
    "# Prepare monthly aggregates\n",
    "superstore_monthly = superstore.copy()\n",
    "superstore_monthly[\"order_date\"] = superstore_monthly[\"order_date\"].dt.to_period(\"M\").dt.to_timestamp()\n",
    "superstore_monthly = superstore_monthly.groupby(\"order_date\")[[\"sales\", \"profit\"]].sum().reset_index()\n",
    "\n",
    "covid_monthly = covid.copy()\n",
    "covid_monthly[\"date\"] = covid_monthly[\"date\"].dt.to_period(\"M\").dt.to_timestamp()\n",
    "covid_monthly = covid_monthly.groupby(\"date\")[[\"new_cases\", \"new_deaths\"]].sum().reset_index()\n",
    "covid_monthly = covid_monthly.rename(columns={\"date\": \"order_date\"})"
   ]
  },
  {
   "cell_type": "markdown",
   "id": "546f010a",
   "metadata": {},
   "source": [
    "## 🔗 Merge Datasets"
   ]
  },
  {
   "cell_type": "markdown",
   "id": "861c0e84",
   "metadata": {},
   "source": [
    "### A. Joining Monthly Superstore Sales with COVID Trends\n",
    "\n",
    "We use `safe_merge()` to join two datasets on month-level date."
   ]
  },
  {
   "cell_type": "code",
   "execution_count": 6,
   "id": "da03471a",
   "metadata": {},
   "outputs": [
    {
     "name": "stdout",
     "output_type": "stream",
     "text": [
      "✅ Merged on ['order_date'] using 'inner' join — shape: (329, 5)\n"
     ]
    },
    {
     "data": {
      "text/html": [
       "<div>\n",
       "<style scoped>\n",
       "    .dataframe tbody tr th:only-of-type {\n",
       "        vertical-align: middle;\n",
       "    }\n",
       "\n",
       "    .dataframe tbody tr th {\n",
       "        vertical-align: top;\n",
       "    }\n",
       "\n",
       "    .dataframe thead th {\n",
       "        text-align: right;\n",
       "    }\n",
       "</style>\n",
       "<table border=\"1\" class=\"dataframe\">\n",
       "  <thead>\n",
       "    <tr style=\"text-align: right;\">\n",
       "      <th></th>\n",
       "      <th>order_date</th>\n",
       "      <th>sales</th>\n",
       "      <th>profit</th>\n",
       "      <th>new_cases</th>\n",
       "      <th>new_deaths</th>\n",
       "    </tr>\n",
       "  </thead>\n",
       "  <tbody>\n",
       "    <tr>\n",
       "      <th>0</th>\n",
       "      <td>2020-01-01</td>\n",
       "      <td>36627.07</td>\n",
       "      <td>1490.90</td>\n",
       "      <td>15558</td>\n",
       "      <td>313</td>\n",
       "    </tr>\n",
       "    <tr>\n",
       "      <th>1</th>\n",
       "      <td>2020-02-01</td>\n",
       "      <td>26120.18</td>\n",
       "      <td>1775.53</td>\n",
       "      <td>14543</td>\n",
       "      <td>277</td>\n",
       "    </tr>\n",
       "    <tr>\n",
       "      <th>2</th>\n",
       "      <td>2020-03-01</td>\n",
       "      <td>33591.53</td>\n",
       "      <td>1297.55</td>\n",
       "      <td>15392</td>\n",
       "      <td>339</td>\n",
       "    </tr>\n",
       "    <tr>\n",
       "      <th>3</th>\n",
       "      <td>2020-04-01</td>\n",
       "      <td>24267.89</td>\n",
       "      <td>1186.19</td>\n",
       "      <td>15148</td>\n",
       "      <td>290</td>\n",
       "    </tr>\n",
       "    <tr>\n",
       "      <th>4</th>\n",
       "      <td>2020-05-01</td>\n",
       "      <td>30944.10</td>\n",
       "      <td>1753.54</td>\n",
       "      <td>15542</td>\n",
       "      <td>328</td>\n",
       "    </tr>\n",
       "  </tbody>\n",
       "</table>\n",
       "</div>"
      ],
      "text/plain": [
       "  order_date     sales   profit  new_cases  new_deaths\n",
       "0 2020-01-01  36627.07  1490.90      15558         313\n",
       "1 2020-02-01  26120.18  1775.53      14543         277\n",
       "2 2020-03-01  33591.53  1297.55      15392         339\n",
       "3 2020-04-01  24267.89  1186.19      15148         290\n",
       "4 2020-05-01  30944.10  1753.54      15542         328"
      ]
     },
     "execution_count": 6,
     "metadata": {},
     "output_type": "execute_result"
    }
   ],
   "source": [
    "sales_covid = agg_utils.safe_merge(\n",
    "    df1=superstore_monthly,\n",
    "    df2=covid_monthly,\n",
    "    on=\"order_date\",\n",
    "    how=\"inner\",\n",
    "    parse_dates=True\n",
    ")\n",
    "sales_covid.head()"
   ]
  },
  {
   "cell_type": "markdown",
   "id": "ae066a3b",
   "metadata": {},
   "source": [
    "### Region-wise Merge (Superstore + Loan)"
   ]
  },
  {
   "cell_type": "code",
   "execution_count": 7,
   "id": "72bce589",
   "metadata": {},
   "outputs": [
    {
     "name": "stdout",
     "output_type": "stream",
     "text": [
      "✅ Merged on ['region'] using 'inner' join — shape: (3, 3)\n"
     ]
    }
   ],
   "source": [
    "region_sales = superstore[[\"region\", \"sales\"]].groupby(\"region\").sum(numeric_only=True).reset_index()\n",
    "region_loans = loan[[\"region\", \"loan_amount\"]].groupby(\"region\").sum(numeric_only=True).reset_index()\n",
    "\n",
    "merged_region = agg_utils.safe_merge(region_sales, region_loans, on=\"region\", how=\"inner\")\n",
    "utils_io.save_csv(merged_region, \"../assets/merged_region_sales_loans.csv\")"
   ]
  },
  {
   "cell_type": "markdown",
   "id": "50843519",
   "metadata": {},
   "source": [
    "### Date-wise Merge (COVID + Weather)"
   ]
  },
  {
   "cell_type": "code",
   "execution_count": 8,
   "id": "9d44ddee",
   "metadata": {},
   "outputs": [
    {
     "name": "stdout",
     "output_type": "stream",
     "text": [
      "✅ Merged on ['month'] using 'inner' join — shape: (305, 5)\n"
     ]
    }
   ],
   "source": [
    "covid_monthly = covid.copy()\n",
    "covid_monthly[\"month\"] = covid_monthly[\"date\"].dt.to_period(\"M\").dt.to_timestamp()\n",
    "weather[\"month\"] = weather[\"date\"].dt.to_period(\"M\").dt.to_timestamp()\n",
    "\n",
    "covid_summary = covid_monthly.groupby(\"month\")[[\"new_cases\", \"new_deaths\"]].sum().reset_index()\n",
    "weather_summary = weather.groupby(\"month\")[[\"temperature_c\", \"humidity\"]].mean().reset_index()\n",
    "\n",
    "merged_trends = agg_utils.safe_merge(covid_summary, weather_summary, on=\"month\", how=\"inner\")\n",
    "utils_io.save_csv(merged_trends, \"../assets/agg_merged_weather_covid_monthly.csv\")"
   ]
  },
  {
   "cell_type": "markdown",
   "id": "d0089be2",
   "metadata": {},
   "source": [
    "## 💥 Merge with Suffix Conflict"
   ]
  },
  {
   "cell_type": "code",
   "execution_count": 9,
   "id": "7c35ceb7",
   "metadata": {},
   "outputs": [
    {
     "name": "stdout",
     "output_type": "stream",
     "text": [
      "✅ Merged on ['customer_id'] using 'inner' join — shape: (0, 3)\n"
     ]
    }
   ],
   "source": [
    "df1 = superstore[[\"customer_id\", \"region\"]].drop_duplicates()\n",
    "df2 = loan[[\"customer_id\", \"loan_amount\"]].copy()\n",
    "df2[\"customer_id\"] = df2[\"customer_id\"].astype(str)\n",
    "\n",
    "merged_conflict = agg_utils.safe_merge(\n",
    "    df1=df1,\n",
    "    df2=df2,\n",
    "    on=\"customer_id\",\n",
    "    suffixes=(\"_sales\", \"_loan\"),\n",
    "    how=\"inner\"\n",
    ")"
   ]
  },
  {
   "cell_type": "markdown",
   "id": "ba0faeb4",
   "metadata": {},
   "source": [
    "## 📈 Post-Merge: Rolling Average and Cumulative Sum"
   ]
  },
  {
   "cell_type": "markdown",
   "id": "fbd21165",
   "metadata": {},
   "source": [
    "### A. Cumulative and Rolling Window Analysis on Sales Data"
   ]
  },
  {
   "cell_type": "code",
   "execution_count": 10,
   "id": "562da3b3",
   "metadata": {},
   "outputs": [
    {
     "data": {
      "text/html": [
       "<div>\n",
       "<style scoped>\n",
       "    .dataframe tbody tr th:only-of-type {\n",
       "        vertical-align: middle;\n",
       "    }\n",
       "\n",
       "    .dataframe tbody tr th {\n",
       "        vertical-align: top;\n",
       "    }\n",
       "\n",
       "    .dataframe thead th {\n",
       "        text-align: right;\n",
       "    }\n",
       "</style>\n",
       "<table border=\"1\" class=\"dataframe\">\n",
       "  <thead>\n",
       "    <tr style=\"text-align: right;\">\n",
       "      <th></th>\n",
       "      <th>order_date</th>\n",
       "      <th>sales</th>\n",
       "      <th>cum_sales</th>\n",
       "      <th>profit</th>\n",
       "      <th>rolling_profit</th>\n",
       "    </tr>\n",
       "  </thead>\n",
       "  <tbody>\n",
       "    <tr>\n",
       "      <th>324</th>\n",
       "      <td>2047-01-01</td>\n",
       "      <td>31448.70</td>\n",
       "      <td>9947147.79</td>\n",
       "      <td>1422.22</td>\n",
       "      <td>1690.163333</td>\n",
       "    </tr>\n",
       "    <tr>\n",
       "      <th>325</th>\n",
       "      <td>2047-02-01</td>\n",
       "      <td>27719.81</td>\n",
       "      <td>9974867.60</td>\n",
       "      <td>1762.42</td>\n",
       "      <td>1639.266667</td>\n",
       "    </tr>\n",
       "    <tr>\n",
       "      <th>326</th>\n",
       "      <td>2047-03-01</td>\n",
       "      <td>35454.26</td>\n",
       "      <td>10010321.86</td>\n",
       "      <td>1495.51</td>\n",
       "      <td>1560.050000</td>\n",
       "    </tr>\n",
       "    <tr>\n",
       "      <th>327</th>\n",
       "      <td>2047-04-01</td>\n",
       "      <td>29930.82</td>\n",
       "      <td>10040252.68</td>\n",
       "      <td>1679.17</td>\n",
       "      <td>1645.700000</td>\n",
       "    </tr>\n",
       "    <tr>\n",
       "      <th>328</th>\n",
       "      <td>2047-05-01</td>\n",
       "      <td>17422.03</td>\n",
       "      <td>10057674.71</td>\n",
       "      <td>912.72</td>\n",
       "      <td>1362.466667</td>\n",
       "    </tr>\n",
       "  </tbody>\n",
       "</table>\n",
       "</div>"
      ],
      "text/plain": [
       "    order_date     sales    cum_sales   profit  rolling_profit\n",
       "324 2047-01-01  31448.70   9947147.79  1422.22     1690.163333\n",
       "325 2047-02-01  27719.81   9974867.60  1762.42     1639.266667\n",
       "326 2047-03-01  35454.26  10010321.86  1495.51     1560.050000\n",
       "327 2047-04-01  29930.82  10040252.68  1679.17     1645.700000\n",
       "328 2047-05-01  17422.03  10057674.71   912.72     1362.466667"
      ]
     },
     "execution_count": 10,
     "metadata": {},
     "output_type": "execute_result"
    }
   ],
   "source": [
    "sales_covid[\"cum_sales\"] = sales_covid[\"sales\"].cumsum()\n",
    "sales_covid[\"rolling_profit\"] = sales_covid[\"profit\"].rolling(window=3).mean()\n",
    "sales_covid[[\"order_date\", \"sales\", \"cum_sales\", \"profit\", \"rolling_profit\"]].tail()"
   ]
  },
  {
   "cell_type": "markdown",
   "id": "712999fa",
   "metadata": {},
   "source": [
    "### B. Cumulative Monthly Sales"
   ]
  },
  {
   "cell_type": "code",
   "execution_count": 11,
   "id": "ebab3f92",
   "metadata": {},
   "outputs": [],
   "source": [
    "superstore[\"month\"] = superstore[\"order_date\"].dt.to_period(\"M\").dt.to_timestamp()\n",
    "monthly_sales = superstore.groupby(\"month\")[\"sales\"].sum().reset_index()\n",
    "monthly_sales[\"cumulative_sales\"] = monthly_sales[\"sales\"].cumsum()"
   ]
  },
  {
   "cell_type": "markdown",
   "id": "c0636db3",
   "metadata": {},
   "source": [
    "### C. Rolling 3-Month Average"
   ]
  },
  {
   "cell_type": "code",
   "execution_count": 12,
   "id": "ef0a5e5d",
   "metadata": {},
   "outputs": [],
   "source": [
    "monthly_sales[\"rolling_avg_3mo\"] = monthly_sales[\"sales\"].rolling(window=3).mean()\n",
    "utils_io.save_csv(monthly_sales, \"../assets/agg_monthly_sales.csv\")"
   ]
  },
  {
   "cell_type": "markdown",
   "id": "d902ed13",
   "metadata": {},
   "source": [
    "## 🧩 Concatenation: Loan Region-wise Files"
   ]
  },
  {
   "cell_type": "code",
   "execution_count": 13,
   "id": "0ceb9a33",
   "metadata": {},
   "outputs": [
    {
     "name": "stdout",
     "output_type": "stream",
     "text": [
      "✅ Concatenated 2 DataFrames — shape: (0, 8)\n"
     ]
    },
    {
     "data": {
      "text/html": [
       "<div>\n",
       "<style scoped>\n",
       "    .dataframe tbody tr th:only-of-type {\n",
       "        vertical-align: middle;\n",
       "    }\n",
       "\n",
       "    .dataframe tbody tr th {\n",
       "        vertical-align: top;\n",
       "    }\n",
       "\n",
       "    .dataframe thead th {\n",
       "        text-align: right;\n",
       "    }\n",
       "</style>\n",
       "<table border=\"1\" class=\"dataframe\">\n",
       "  <thead>\n",
       "    <tr style=\"text-align: right;\">\n",
       "      <th></th>\n",
       "      <th>customer_id</th>\n",
       "      <th>customer_name</th>\n",
       "      <th>age</th>\n",
       "      <th>income</th>\n",
       "      <th>loan_amount</th>\n",
       "      <th>loan_purpose</th>\n",
       "      <th>approved</th>\n",
       "      <th>region</th>\n",
       "    </tr>\n",
       "  </thead>\n",
       "  <tbody>\n",
       "  </tbody>\n",
       "</table>\n",
       "</div>"
      ],
      "text/plain": [
       "Empty DataFrame\n",
       "Columns: [customer_id, customer_name, age, income, loan_amount, loan_purpose, approved, region]\n",
       "Index: []"
      ]
     },
     "execution_count": 13,
     "metadata": {},
     "output_type": "execute_result"
    }
   ],
   "source": [
    "# Simulate loading region-wise loan files\n",
    "loan_north = loan[loan[\"region\"] == \"North\"]\n",
    "loan_south = loan[loan[\"region\"] == \"South\"]\n",
    "\n",
    "# Concatenate using safe_concat\n",
    "loan_combined = agg_utils.safe_concat([loan_north, loan_south])\n",
    "loan_combined.head()"
   ]
  },
  {
   "cell_type": "markdown",
   "id": "9505aa42",
   "metadata": {},
   "source": [
    "## ⚠️ Merge Conflict: Overlapping Column Names"
   ]
  },
  {
   "cell_type": "code",
   "execution_count": 14,
   "id": "668a09b9",
   "metadata": {},
   "outputs": [
    {
     "name": "stdout",
     "output_type": "stream",
     "text": [
      "✅ Merged on ['customer_id'] using 'inner' join — shape: (0, 3)\n"
     ]
    },
    {
     "data": {
      "text/html": [
       "<div>\n",
       "<style scoped>\n",
       "    .dataframe tbody tr th:only-of-type {\n",
       "        vertical-align: middle;\n",
       "    }\n",
       "\n",
       "    .dataframe tbody tr th {\n",
       "        vertical-align: top;\n",
       "    }\n",
       "\n",
       "    .dataframe thead th {\n",
       "        text-align: right;\n",
       "    }\n",
       "</style>\n",
       "<table border=\"1\" class=\"dataframe\">\n",
       "  <thead>\n",
       "    <tr style=\"text-align: right;\">\n",
       "      <th></th>\n",
       "      <th>customer_id</th>\n",
       "      <th>region</th>\n",
       "      <th>loan_amount</th>\n",
       "    </tr>\n",
       "  </thead>\n",
       "  <tbody>\n",
       "  </tbody>\n",
       "</table>\n",
       "</div>"
      ],
      "text/plain": [
       "Empty DataFrame\n",
       "Columns: [customer_id, region, loan_amount]\n",
       "Index: []"
      ]
     },
     "execution_count": 14,
     "metadata": {},
     "output_type": "execute_result"
    }
   ],
   "source": [
    "# Simulate conflict merge by reusing customer_id\n",
    "\n",
    "# Ensure consistent data type for merge key\n",
    "df1 = superstore[[\"customer_id\", \"region\"]].drop_duplicates().copy()\n",
    "df2 = loan[[\"customer_id\", \"loan_amount\"]].copy()\n",
    "\n",
    "df1[\"customer_id\"] = df1[\"customer_id\"].astype(str)\n",
    "df2[\"customer_id\"] = df2[\"customer_id\"].astype(str)\n",
    "\n",
    "merged_conflict = agg_utils.safe_merge(\n",
    "    df1=df1,\n",
    "    df2=df2,\n",
    "    on=\"customer_id\",\n",
    "    suffixes=(\"_sales\", \"_loan\"),\n",
    "    how=\"inner\"\n",
    ")\n",
    "merged_conflict.head()"
   ]
  },
  {
   "cell_type": "code",
   "execution_count": 15,
   "id": "1e99964a",
   "metadata": {},
   "outputs": [],
   "source": [
    "# Exporting outputs\n",
    "utils_io.save_csv(sales_covid, \"../assets/merged_sales_covid.csv\")\n",
    "utils_io.save_csv(loan_combined, \"../assets/loan_all_combined.csv\")"
   ]
  },
  {
   "cell_type": "markdown",
   "id": "89eb8a96",
   "metadata": {},
   "source": [
    "## ✅ Summary\n",
    "\n",
    "In this notebook, we:\n",
    "- Used `safe_merge()` for robust joining with key validation\n",
    "- Performed `.cumsum()` and `.rolling()` post-merge\n",
    "- Used `safe_concat()` to combine region-wise datasets\n",
    "- Handled merge conflicts using suffixes\n",
    "- Exported merged outputs for further use"
   ]
  }
 ],
 "metadata": {
  "kernelspec": {
   "display_name": "pandas_env",
   "language": "python",
   "name": "python3"
  },
  "language_info": {
   "codemirror_mode": {
    "name": "ipython",
    "version": 3
   },
   "file_extension": ".py",
   "mimetype": "text/x-python",
   "name": "python",
   "nbconvert_exporter": "python",
   "pygments_lexer": "ipython3",
   "version": "3.11.11"
  }
 },
 "nbformat": 4,
 "nbformat_minor": 5
}
