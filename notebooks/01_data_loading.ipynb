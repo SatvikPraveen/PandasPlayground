{
 "cells": [
  {
   "cell_type": "markdown",
   "id": "a7191f14",
   "metadata": {},
   "source": [
    "# 🧩 Notebook 01: Data Loading & Inspection with pandas\n",
    "\n",
    "> Load and inspect 10,000-row realistic datasets from CSV, JSON, Excel (single & multi-sheet), and Parquet using utility scripts and pandas best practices."
   ]
  },
  {
   "cell_type": "code",
   "execution_count": 1,
   "id": "22a3a893",
   "metadata": {},
   "outputs": [],
   "source": [
    "# Notebook import setup\n",
    "import sys\n",
    "from pathlib import Path\n",
    "\n",
    "PROJECT_ROOT = Path.cwd().parent\n",
    "if str(PROJECT_ROOT) not in sys.path:\n",
    "    sys.path.append(str(PROJECT_ROOT))\n",
    "\n",
    "from scripts import utils_io"
   ]
  },
  {
   "cell_type": "code",
   "execution_count": 2,
   "id": "5900ea94",
   "metadata": {},
   "outputs": [],
   "source": [
    "# Standard Imports\n",
    "import pandas as pd\n",
    "import numpy as np\n",
    "from pathlib import Path\n",
    "\n",
    "# Display options\n",
    "pd.set_option('display.max_columns', 100)\n",
    "pd.set_option('display.precision', 2)\n",
    "\n",
    "DATA_DIR = Path(\"../data\")"
   ]
  },
  {
   "cell_type": "markdown",
   "id": "353cd4fd",
   "metadata": {},
   "source": [
    "## 📦 Dataset Overview\n",
    "\n",
    "We now have 10,000-row mock datasets in various formats:\n",
    "\n",
    "| Dataset               | Format      | Filename                      |\n",
    "|-----------------------|-------------|-------------------------------|\n",
    "| Superstore Sales      | CSV         | `superstore_sales.csv`        |\n",
    "| Weather Data          | JSON        | `weather_data.json`           |\n",
    "| Bank Loan Data        | Excel       | `bank_loans.xlsx`             |\n",
    "| Bank Loans by Region  | Excel (multi-sheet) | `bank_loans_multisheet.xlsx` |\n",
    "| COVID Data            | Parquet     | `covid_data.parquet`          |"
   ]
  },
  {
   "cell_type": "code",
   "execution_count": 3,
   "id": "76d43c36",
   "metadata": {},
   "outputs": [
    {
     "data": {
      "text/plain": [
       "[PosixPath('../data/covid_data.parquet'),\n",
       " PosixPath('../data/bank_loans_multisheet.xlsx'),\n",
       " PosixPath('../data/weather_data.json'),\n",
       " PosixPath('../data/bank_loans.xlsx'),\n",
       " PosixPath('../data/superstore_sales.csv')]"
      ]
     },
     "execution_count": 3,
     "metadata": {},
     "output_type": "execute_result"
    }
   ],
   "source": [
    "# List all data files for confirmation\n",
    "list(DATA_DIR.glob('*'))"
   ]
  },
  {
   "cell_type": "markdown",
   "id": "10bcef26",
   "metadata": {},
   "source": [
    "## 🧪 Data Loading: CSV, Excel, JSON, Parquet\n",
    "We'll load all formats using both raw pandas and utility functions (`scripts/utils_io.py`)"
   ]
  },
  {
   "cell_type": "code",
   "execution_count": 4,
   "id": "952f70f0",
   "metadata": {},
   "outputs": [],
   "source": [
    "# Load All Datasets\n",
    "superstore_df = utils_io.load_csv(DATA_DIR / 'superstore_sales.csv')\n",
    "weather_df = utils_io.load_json(DATA_DIR / 'weather_data.json')\n",
    "loan_df = utils_io.load_excel(DATA_DIR / 'bank_loans.xlsx')\n",
    "covid_df = utils_io.load_parquet(DATA_DIR / 'covid_data.parquet')"
   ]
  },
  {
   "cell_type": "code",
   "execution_count": 5,
   "id": "7e51a983",
   "metadata": {},
   "outputs": [
    {
     "name": "stdout",
     "output_type": "stream",
     "text": [
      "Available Sheets: ['East', 'West', 'North', 'South']\n"
     ]
    },
    {
     "data": {
      "text/html": [
       "<div>\n",
       "<style scoped>\n",
       "    .dataframe tbody tr th:only-of-type {\n",
       "        vertical-align: middle;\n",
       "    }\n",
       "\n",
       "    .dataframe tbody tr th {\n",
       "        vertical-align: top;\n",
       "    }\n",
       "\n",
       "    .dataframe thead th {\n",
       "        text-align: right;\n",
       "    }\n",
       "</style>\n",
       "<table border=\"1\" class=\"dataframe\">\n",
       "  <thead>\n",
       "    <tr style=\"text-align: right;\">\n",
       "      <th></th>\n",
       "      <th>Customer_ID</th>\n",
       "      <th>Customer_Name</th>\n",
       "      <th>Age</th>\n",
       "      <th>Income</th>\n",
       "      <th>Loan_Amount</th>\n",
       "      <th>Loan_Purpose</th>\n",
       "      <th>Approved</th>\n",
       "      <th>Region</th>\n",
       "    </tr>\n",
       "  </thead>\n",
       "  <tbody>\n",
       "    <tr>\n",
       "      <th>0</th>\n",
       "      <td>1001</td>\n",
       "      <td>James Reid</td>\n",
       "      <td>55</td>\n",
       "      <td>96964</td>\n",
       "      <td>36890</td>\n",
       "      <td>Education</td>\n",
       "      <td>Yes</td>\n",
       "      <td>East</td>\n",
       "    </tr>\n",
       "    <tr>\n",
       "      <th>1</th>\n",
       "      <td>1002</td>\n",
       "      <td>Howard Mathis</td>\n",
       "      <td>61</td>\n",
       "      <td>59846</td>\n",
       "      <td>56517</td>\n",
       "      <td>Education</td>\n",
       "      <td>Yes</td>\n",
       "      <td>East</td>\n",
       "    </tr>\n",
       "    <tr>\n",
       "      <th>2</th>\n",
       "      <td>1003</td>\n",
       "      <td>Karen Johnson</td>\n",
       "      <td>23</td>\n",
       "      <td>43879</td>\n",
       "      <td>42857</td>\n",
       "      <td>Home</td>\n",
       "      <td>Yes</td>\n",
       "      <td>East</td>\n",
       "    </tr>\n",
       "    <tr>\n",
       "      <th>3</th>\n",
       "      <td>1004</td>\n",
       "      <td>Jose Lee</td>\n",
       "      <td>54</td>\n",
       "      <td>27261</td>\n",
       "      <td>51149</td>\n",
       "      <td>Medical</td>\n",
       "      <td>No</td>\n",
       "      <td>East</td>\n",
       "    </tr>\n",
       "    <tr>\n",
       "      <th>4</th>\n",
       "      <td>1005</td>\n",
       "      <td>Danielle Caldwell</td>\n",
       "      <td>58</td>\n",
       "      <td>53340</td>\n",
       "      <td>17337</td>\n",
       "      <td>Vacation</td>\n",
       "      <td>Yes</td>\n",
       "      <td>East</td>\n",
       "    </tr>\n",
       "  </tbody>\n",
       "</table>\n",
       "</div>"
      ],
      "text/plain": [
       "   Customer_ID      Customer_Name  Age  Income  Loan_Amount Loan_Purpose  \\\n",
       "0         1001         James Reid   55   96964        36890    Education   \n",
       "1         1002      Howard Mathis   61   59846        56517    Education   \n",
       "2         1003      Karen Johnson   23   43879        42857         Home   \n",
       "3         1004           Jose Lee   54   27261        51149      Medical   \n",
       "4         1005  Danielle Caldwell   58   53340        17337     Vacation   \n",
       "\n",
       "  Approved Region  \n",
       "0      Yes   East  \n",
       "1      Yes   East  \n",
       "2      Yes   East  \n",
       "3       No   East  \n",
       "4      Yes   East  "
      ]
     },
     "execution_count": 5,
     "metadata": {},
     "output_type": "execute_result"
    }
   ],
   "source": [
    "# Load Multi-Sheet Excel\n",
    "multi_excel = pd.ExcelFile(DATA_DIR / \"bank_loans_multisheet.xlsx\")\n",
    "print(\"Available Sheets:\", multi_excel.sheet_names)\n",
    "\n",
    "loan_east_df = multi_excel.parse(\"East\")\n",
    "loan_east_df.head()"
   ]
  },
  {
   "cell_type": "markdown",
   "id": "5686035a",
   "metadata": {},
   "source": [
    "## 🔍 Basic Inspection and Metadata\n",
    "We'll inspect rows, columns, datatypes, nulls, and memory usage."
   ]
  },
  {
   "cell_type": "code",
   "execution_count": 6,
   "id": "804cc0ea",
   "metadata": {},
   "outputs": [
    {
     "name": "stdout",
     "output_type": "stream",
     "text": [
      "\n",
      "📊 Superstore Dataset\n",
      "<class 'pandas.core.frame.DataFrame'>\n",
      "RangeIndex: 10000 entries, 0 to 9999\n",
      "Data columns (total 14 columns):\n",
      " #   Column         Non-Null Count  Dtype  \n",
      "---  ------         --------------  -----  \n",
      " 0   Order ID       10000 non-null  object \n",
      " 1   Customer ID    10000 non-null  object \n",
      " 2   Customer Name  10000 non-null  object \n",
      " 3   Segment        10000 non-null  object \n",
      " 4   Region         10000 non-null  object \n",
      " 5   Order Date     10000 non-null  object \n",
      " 6   Ship Date      10000 non-null  object \n",
      " 7   Category       10000 non-null  object \n",
      " 8   Sub-Category   10000 non-null  object \n",
      " 9   Product Name   10000 non-null  object \n",
      " 10  Sales          10000 non-null  float64\n",
      " 11  Quantity       10000 non-null  int64  \n",
      " 12  Discount       10000 non-null  float64\n",
      " 13  Profit         10000 non-null  float64\n",
      "dtypes: float64(3), int64(1), object(10)\n",
      "memory usage: 1.1+ MB\n",
      "None\n",
      "Shape: (10000, 14)\n",
      "Memory (MB): 6.683284759521484\n",
      "------------------------------------------------------------\n",
      "\n",
      "📊 Weather Dataset\n",
      "<class 'pandas.core.frame.DataFrame'>\n",
      "RangeIndex: 10000 entries, 0 to 9999\n",
      "Data columns (total 4 columns):\n",
      " #   Column         Non-Null Count  Dtype         \n",
      "---  ------         --------------  -----         \n",
      " 0   date           10000 non-null  datetime64[ns]\n",
      " 1   temperature_c  10000 non-null  int64         \n",
      " 2   humidity       10000 non-null  int64         \n",
      " 3   condition      10000 non-null  object        \n",
      "dtypes: datetime64[ns](1), int64(2), object(1)\n",
      "memory usage: 312.6+ KB\n",
      "None\n",
      "Shape: (10000, 4)\n",
      "Memory (MB): 0.8183612823486328\n",
      "------------------------------------------------------------\n",
      "\n",
      "📊 Loan Dataset\n",
      "<class 'pandas.core.frame.DataFrame'>\n",
      "RangeIndex: 10000 entries, 0 to 9999\n",
      "Data columns (total 7 columns):\n",
      " #   Column         Non-Null Count  Dtype \n",
      "---  ------         --------------  ----- \n",
      " 0   Customer_ID    10000 non-null  int64 \n",
      " 1   Customer_Name  10000 non-null  object\n",
      " 2   Age            10000 non-null  int64 \n",
      " 3   Income         10000 non-null  int64 \n",
      " 4   Loan_Amount    10000 non-null  int64 \n",
      " 5   Loan_Purpose   10000 non-null  object\n",
      " 6   Approved       10000 non-null  object\n",
      "dtypes: int64(4), object(3)\n",
      "memory usage: 547.0+ KB\n",
      "None\n",
      "Shape: (10000, 7)\n",
      "Memory (MB): 2.1486520767211914\n",
      "------------------------------------------------------------\n",
      "\n",
      "📊 Loan-East Dataset\n",
      "<class 'pandas.core.frame.DataFrame'>\n",
      "RangeIndex: 10000 entries, 0 to 9999\n",
      "Data columns (total 8 columns):\n",
      " #   Column         Non-Null Count  Dtype \n",
      "---  ------         --------------  ----- \n",
      " 0   Customer_ID    10000 non-null  int64 \n",
      " 1   Customer_Name  10000 non-null  object\n",
      " 2   Age            10000 non-null  int64 \n",
      " 3   Income         10000 non-null  int64 \n",
      " 4   Loan_Amount    10000 non-null  int64 \n",
      " 5   Loan_Purpose   10000 non-null  object\n",
      " 6   Approved       10000 non-null  object\n",
      " 7   Region         10000 non-null  object\n",
      "dtypes: int64(4), object(4)\n",
      "memory usage: 625.1+ KB\n",
      "None\n",
      "Shape: (10000, 8)\n",
      "Memory (MB): 2.730393409729004\n",
      "------------------------------------------------------------\n",
      "\n",
      "📊 COVID Dataset\n",
      "<class 'pandas.core.frame.DataFrame'>\n",
      "RangeIndex: 10000 entries, 0 to 9999\n",
      "Data columns (total 6 columns):\n",
      " #   Column        Non-Null Count  Dtype         \n",
      "---  ------        --------------  -----         \n",
      " 0   date          10000 non-null  datetime64[ns]\n",
      " 1   country       10000 non-null  object        \n",
      " 2   variant       10000 non-null  object        \n",
      " 3   new_cases     10000 non-null  int64         \n",
      " 4   new_deaths    10000 non-null  int64         \n",
      " 5   hospitalized  10000 non-null  int64         \n",
      "dtypes: datetime64[ns](1), int64(3), object(2)\n",
      "memory usage: 468.9+ KB\n",
      "None\n",
      "Shape: (10000, 6)\n",
      "Memory (MB): 1.489837646484375\n",
      "------------------------------------------------------------\n"
     ]
    }
   ],
   "source": [
    "for name, df in zip(\n",
    "    [\"Superstore\", \"Weather\", \"Loan\", \"Loan-East\", \"COVID\"],\n",
    "    [superstore_df, weather_df, loan_df, loan_east_df, covid_df]\n",
    "):\n",
    "    print(f\"\\n📊 {name} Dataset\")\n",
    "    print(df.info())\n",
    "    print(\"Shape:\", df.shape)\n",
    "    print(\"Memory (MB):\", df.memory_usage(deep=True).sum() / 1024**2)\n",
    "    print(\"-\" * 60)\n"
   ]
  },
  {
   "cell_type": "markdown",
   "id": "88cc64c4",
   "metadata": {},
   "source": [
    "## 🔄 Type Conversion & Date Parsing\n",
    "- Dates: `pd.to_datetime()`\n",
    "- Categoricals: `astype('category')`"
   ]
  },
  {
   "cell_type": "code",
   "execution_count": 7,
   "id": "03be90eb",
   "metadata": {},
   "outputs": [],
   "source": [
    "# Type Conversion and Date parsing example\n",
    "superstore_df['Order Date'] = pd.to_datetime(superstore_df['Order Date'], errors='coerce')\n",
    "superstore_df['Ship Date'] = pd.to_datetime(superstore_df['Ship Date'], errors='coerce')\n",
    "\n",
    "superstore_df['Category'] = superstore_df['Category'].astype('category')\n",
    "superstore_df['Sub-Category'] = superstore_df['Sub-Category'].astype('category')"
   ]
  },
  {
   "cell_type": "markdown",
   "id": "5a15c226",
   "metadata": {},
   "source": [
    "## 🧼 5. Rename Columns & Cleanup"
   ]
  },
  {
   "cell_type": "code",
   "execution_count": 8,
   "id": "e25b5904",
   "metadata": {},
   "outputs": [
    {
     "data": {
      "text/html": [
       "<div>\n",
       "<style scoped>\n",
       "    .dataframe tbody tr th:only-of-type {\n",
       "        vertical-align: middle;\n",
       "    }\n",
       "\n",
       "    .dataframe tbody tr th {\n",
       "        vertical-align: top;\n",
       "    }\n",
       "\n",
       "    .dataframe thead th {\n",
       "        text-align: right;\n",
       "    }\n",
       "</style>\n",
       "<table border=\"1\" class=\"dataframe\">\n",
       "  <thead>\n",
       "    <tr style=\"text-align: right;\">\n",
       "      <th></th>\n",
       "      <th>order_id</th>\n",
       "      <th>customer_id</th>\n",
       "      <th>customer_name</th>\n",
       "      <th>segment</th>\n",
       "      <th>region</th>\n",
       "      <th>order_date</th>\n",
       "      <th>ship_date</th>\n",
       "      <th>category</th>\n",
       "      <th>sub_category</th>\n",
       "      <th>product_name</th>\n",
       "      <th>sales</th>\n",
       "      <th>quantity</th>\n",
       "      <th>discount</th>\n",
       "      <th>profit</th>\n",
       "    </tr>\n",
       "  </thead>\n",
       "  <tbody>\n",
       "    <tr>\n",
       "      <th>0</th>\n",
       "      <td>ORD-10000</td>\n",
       "      <td>CUST-9476</td>\n",
       "      <td>Mr. Michael Lopez</td>\n",
       "      <td>Home Office</td>\n",
       "      <td>Central</td>\n",
       "      <td>2020-01-01</td>\n",
       "      <td>2020-01-03</td>\n",
       "      <td>Furniture</td>\n",
       "      <td>Bookcases</td>\n",
       "      <td>Bookcases Model 1</td>\n",
       "      <td>1292.63</td>\n",
       "      <td>5</td>\n",
       "      <td>0.3</td>\n",
       "      <td>22.94</td>\n",
       "    </tr>\n",
       "    <tr>\n",
       "      <th>1</th>\n",
       "      <td>ORD-10001</td>\n",
       "      <td>CUST-9162</td>\n",
       "      <td>Robert Liu</td>\n",
       "      <td>Home Office</td>\n",
       "      <td>South</td>\n",
       "      <td>2020-01-02</td>\n",
       "      <td>2020-01-04</td>\n",
       "      <td>Furniture</td>\n",
       "      <td>Bookcases</td>\n",
       "      <td>Bookcases Model 2</td>\n",
       "      <td>1947.16</td>\n",
       "      <td>2</td>\n",
       "      <td>0.3</td>\n",
       "      <td>205.52</td>\n",
       "    </tr>\n",
       "    <tr>\n",
       "      <th>2</th>\n",
       "      <td>ORD-10002</td>\n",
       "      <td>CUST-3824</td>\n",
       "      <td>Nicole Bowman</td>\n",
       "      <td>Consumer</td>\n",
       "      <td>South</td>\n",
       "      <td>2020-01-03</td>\n",
       "      <td>2020-01-05</td>\n",
       "      <td>Furniture</td>\n",
       "      <td>Bookcases</td>\n",
       "      <td>Bookcases Model 3</td>\n",
       "      <td>1774.42</td>\n",
       "      <td>3</td>\n",
       "      <td>0.2</td>\n",
       "      <td>23.84</td>\n",
       "    </tr>\n",
       "    <tr>\n",
       "      <th>3</th>\n",
       "      <td>ORD-10003</td>\n",
       "      <td>CUST-8888</td>\n",
       "      <td>Stephen Flores</td>\n",
       "      <td>Consumer</td>\n",
       "      <td>Central</td>\n",
       "      <td>2020-01-04</td>\n",
       "      <td>2020-01-06</td>\n",
       "      <td>Furniture</td>\n",
       "      <td>Bookcases</td>\n",
       "      <td>Bookcases Model 4</td>\n",
       "      <td>591.01</td>\n",
       "      <td>8</td>\n",
       "      <td>0.0</td>\n",
       "      <td>64.85</td>\n",
       "    </tr>\n",
       "    <tr>\n",
       "      <th>4</th>\n",
       "      <td>ORD-10004</td>\n",
       "      <td>CUST-9980</td>\n",
       "      <td>Stephen Rodriguez</td>\n",
       "      <td>Corporate</td>\n",
       "      <td>South</td>\n",
       "      <td>2020-01-05</td>\n",
       "      <td>2020-01-07</td>\n",
       "      <td>Furniture</td>\n",
       "      <td>Bookcases</td>\n",
       "      <td>Bookcases Model 5</td>\n",
       "      <td>1969.55</td>\n",
       "      <td>4</td>\n",
       "      <td>0.2</td>\n",
       "      <td>58.99</td>\n",
       "    </tr>\n",
       "  </tbody>\n",
       "</table>\n",
       "</div>"
      ],
      "text/plain": [
       "    order_id customer_id      customer_name      segment   region order_date  \\\n",
       "0  ORD-10000   CUST-9476  Mr. Michael Lopez  Home Office  Central 2020-01-01   \n",
       "1  ORD-10001   CUST-9162         Robert Liu  Home Office    South 2020-01-02   \n",
       "2  ORD-10002   CUST-3824      Nicole Bowman     Consumer    South 2020-01-03   \n",
       "3  ORD-10003   CUST-8888     Stephen Flores     Consumer  Central 2020-01-04   \n",
       "4  ORD-10004   CUST-9980  Stephen Rodriguez    Corporate    South 2020-01-05   \n",
       "\n",
       "   ship_date   category sub_category       product_name    sales  quantity  \\\n",
       "0 2020-01-03  Furniture    Bookcases  Bookcases Model 1  1292.63         5   \n",
       "1 2020-01-04  Furniture    Bookcases  Bookcases Model 2  1947.16         2   \n",
       "2 2020-01-05  Furniture    Bookcases  Bookcases Model 3  1774.42         3   \n",
       "3 2020-01-06  Furniture    Bookcases  Bookcases Model 4   591.01         8   \n",
       "4 2020-01-07  Furniture    Bookcases  Bookcases Model 5  1969.55         4   \n",
       "\n",
       "   discount  profit  \n",
       "0       0.3   22.94  \n",
       "1       0.3  205.52  \n",
       "2       0.2   23.84  \n",
       "3       0.0   64.85  \n",
       "4       0.2   58.99  "
      ]
     },
     "execution_count": 8,
     "metadata": {},
     "output_type": "execute_result"
    }
   ],
   "source": [
    "# Clean column names for consistency\n",
    "superstore_df.columns = (\n",
    "    superstore_df.columns\n",
    "    .str.strip()\n",
    "    .str.lower()\n",
    "    .str.replace(\" \", \"_\")\n",
    "    .str.replace(\"-\", \"_\")\n",
    ")\n",
    "superstore_df.head()"
   ]
  },
  {
   "cell_type": "markdown",
   "id": "9a018b54",
   "metadata": {},
   "source": [
    "## 📁 6. Save Intermediate Cleaned Version"
   ]
  },
  {
   "cell_type": "code",
   "execution_count": 9,
   "id": "bc54d31d",
   "metadata": {},
   "outputs": [],
   "source": [
    "# Save cleaned version to assets/\n",
    "from scripts.utils_io import save_csv\n",
    "save_csv(superstore_df, \"../assets/superstore_cleaned.csv\")"
   ]
  },
  {
   "cell_type": "markdown",
   "id": "06c3bd89",
   "metadata": {},
   "source": [
    "## Weather Data - JSON"
   ]
  },
  {
   "cell_type": "code",
   "execution_count": 10,
   "id": "0811aacd",
   "metadata": {},
   "outputs": [
    {
     "name": "stdout",
     "output_type": "stream",
     "text": [
      "<class 'pandas.core.frame.DataFrame'>\n",
      "RangeIndex: 10000 entries, 0 to 9999\n",
      "Data columns (total 4 columns):\n",
      " #   Column         Non-Null Count  Dtype         \n",
      "---  ------         --------------  -----         \n",
      " 0   date           10000 non-null  datetime64[ns]\n",
      " 1   temperature_c  10000 non-null  int64         \n",
      " 2   humidity       10000 non-null  int64         \n",
      " 3   condition      10000 non-null  object        \n",
      "dtypes: datetime64[ns](1), int64(2), object(1)\n",
      "memory usage: 312.6+ KB\n",
      "Shape: (10000, 4)\n"
     ]
    }
   ],
   "source": [
    "# Inspect\n",
    "weather_df.info()\n",
    "print(\"Shape:\", weather_df.shape)"
   ]
  },
  {
   "cell_type": "code",
   "execution_count": 11,
   "id": "dce518ed",
   "metadata": {},
   "outputs": [
    {
     "data": {
      "text/html": [
       "<div>\n",
       "<style scoped>\n",
       "    .dataframe tbody tr th:only-of-type {\n",
       "        vertical-align: middle;\n",
       "    }\n",
       "\n",
       "    .dataframe tbody tr th {\n",
       "        vertical-align: top;\n",
       "    }\n",
       "\n",
       "    .dataframe thead th {\n",
       "        text-align: right;\n",
       "    }\n",
       "</style>\n",
       "<table border=\"1\" class=\"dataframe\">\n",
       "  <thead>\n",
       "    <tr style=\"text-align: right;\">\n",
       "      <th></th>\n",
       "      <th>date</th>\n",
       "      <th>temperature_c</th>\n",
       "      <th>humidity</th>\n",
       "      <th>condition</th>\n",
       "    </tr>\n",
       "  </thead>\n",
       "  <tbody>\n",
       "    <tr>\n",
       "      <th>0</th>\n",
       "      <td>2022-01-01</td>\n",
       "      <td>28</td>\n",
       "      <td>81</td>\n",
       "      <td>Snow</td>\n",
       "    </tr>\n",
       "    <tr>\n",
       "      <th>1</th>\n",
       "      <td>2022-01-02</td>\n",
       "      <td>4</td>\n",
       "      <td>90</td>\n",
       "      <td>Snow</td>\n",
       "    </tr>\n",
       "    <tr>\n",
       "      <th>2</th>\n",
       "      <td>2022-01-03</td>\n",
       "      <td>28</td>\n",
       "      <td>53</td>\n",
       "      <td>Cloudy</td>\n",
       "    </tr>\n",
       "    <tr>\n",
       "      <th>3</th>\n",
       "      <td>2022-01-04</td>\n",
       "      <td>11</td>\n",
       "      <td>82</td>\n",
       "      <td>Rain</td>\n",
       "    </tr>\n",
       "    <tr>\n",
       "      <th>4</th>\n",
       "      <td>2022-01-05</td>\n",
       "      <td>13</td>\n",
       "      <td>59</td>\n",
       "      <td>Rain</td>\n",
       "    </tr>\n",
       "  </tbody>\n",
       "</table>\n",
       "</div>"
      ],
      "text/plain": [
       "        date  temperature_c  humidity condition\n",
       "0 2022-01-01             28        81      Snow\n",
       "1 2022-01-02              4        90      Snow\n",
       "2 2022-01-03             28        53    Cloudy\n",
       "3 2022-01-04             11        82      Rain\n",
       "4 2022-01-05             13        59      Rain"
      ]
     },
     "execution_count": 11,
     "metadata": {},
     "output_type": "execute_result"
    }
   ],
   "source": [
    "# Exploring the dataset\n",
    "weather_df.head()"
   ]
  },
  {
   "cell_type": "code",
   "execution_count": 12,
   "id": "7d2176e4",
   "metadata": {},
   "outputs": [],
   "source": [
    "# Type Conversion\n",
    "weather_df['date'] = pd.to_datetime(weather_df['date'], errors='coerce')\n",
    "weather_df['condition'] = weather_df['condition'].astype('category')"
   ]
  },
  {
   "cell_type": "code",
   "execution_count": 13,
   "id": "28294087",
   "metadata": {},
   "outputs": [],
   "source": [
    "# Column Cleanup\n",
    "weather_df.columns = weather_df.columns.str.strip().str.lower().str.replace(\" \", \"_\")"
   ]
  },
  {
   "cell_type": "code",
   "execution_count": 14,
   "id": "074b5b51",
   "metadata": {},
   "outputs": [],
   "source": [
    "# Save\n",
    "save_csv(weather_df, '../assets/weather_cleaned.csv')"
   ]
  },
  {
   "cell_type": "markdown",
   "id": "f0ca5b68",
   "metadata": {},
   "source": [
    "## Bank Loan Data - Excel"
   ]
  },
  {
   "cell_type": "code",
   "execution_count": 15,
   "id": "823fff5c",
   "metadata": {},
   "outputs": [
    {
     "name": "stdout",
     "output_type": "stream",
     "text": [
      "<class 'pandas.core.frame.DataFrame'>\n",
      "RangeIndex: 10000 entries, 0 to 9999\n",
      "Data columns (total 7 columns):\n",
      " #   Column         Non-Null Count  Dtype \n",
      "---  ------         --------------  ----- \n",
      " 0   Customer_ID    10000 non-null  int64 \n",
      " 1   Customer_Name  10000 non-null  object\n",
      " 2   Age            10000 non-null  int64 \n",
      " 3   Income         10000 non-null  int64 \n",
      " 4   Loan_Amount    10000 non-null  int64 \n",
      " 5   Loan_Purpose   10000 non-null  object\n",
      " 6   Approved       10000 non-null  object\n",
      "dtypes: int64(4), object(3)\n",
      "memory usage: 547.0+ KB\n",
      "Shape: (10000, 7)\n"
     ]
    }
   ],
   "source": [
    "# Inspect\n",
    "loan_df.info()\n",
    "print(\"Shape:\", loan_df.shape)"
   ]
  },
  {
   "cell_type": "code",
   "execution_count": 16,
   "id": "cff1c1a2",
   "metadata": {},
   "outputs": [
    {
     "data": {
      "text/html": [
       "<div>\n",
       "<style scoped>\n",
       "    .dataframe tbody tr th:only-of-type {\n",
       "        vertical-align: middle;\n",
       "    }\n",
       "\n",
       "    .dataframe tbody tr th {\n",
       "        vertical-align: top;\n",
       "    }\n",
       "\n",
       "    .dataframe thead th {\n",
       "        text-align: right;\n",
       "    }\n",
       "</style>\n",
       "<table border=\"1\" class=\"dataframe\">\n",
       "  <thead>\n",
       "    <tr style=\"text-align: right;\">\n",
       "      <th></th>\n",
       "      <th>Customer_ID</th>\n",
       "      <th>Customer_Name</th>\n",
       "      <th>Age</th>\n",
       "      <th>Income</th>\n",
       "      <th>Loan_Amount</th>\n",
       "      <th>Loan_Purpose</th>\n",
       "      <th>Approved</th>\n",
       "    </tr>\n",
       "  </thead>\n",
       "  <tbody>\n",
       "    <tr>\n",
       "      <th>0</th>\n",
       "      <td>1001</td>\n",
       "      <td>James Reid</td>\n",
       "      <td>55</td>\n",
       "      <td>96964</td>\n",
       "      <td>36890</td>\n",
       "      <td>Education</td>\n",
       "      <td>Yes</td>\n",
       "    </tr>\n",
       "    <tr>\n",
       "      <th>1</th>\n",
       "      <td>1002</td>\n",
       "      <td>Howard Mathis</td>\n",
       "      <td>61</td>\n",
       "      <td>59846</td>\n",
       "      <td>56517</td>\n",
       "      <td>Education</td>\n",
       "      <td>Yes</td>\n",
       "    </tr>\n",
       "    <tr>\n",
       "      <th>2</th>\n",
       "      <td>1003</td>\n",
       "      <td>Karen Johnson</td>\n",
       "      <td>23</td>\n",
       "      <td>43879</td>\n",
       "      <td>42857</td>\n",
       "      <td>Home</td>\n",
       "      <td>Yes</td>\n",
       "    </tr>\n",
       "    <tr>\n",
       "      <th>3</th>\n",
       "      <td>1004</td>\n",
       "      <td>Jose Lee</td>\n",
       "      <td>54</td>\n",
       "      <td>27261</td>\n",
       "      <td>51149</td>\n",
       "      <td>Medical</td>\n",
       "      <td>No</td>\n",
       "    </tr>\n",
       "    <tr>\n",
       "      <th>4</th>\n",
       "      <td>1005</td>\n",
       "      <td>Danielle Caldwell</td>\n",
       "      <td>58</td>\n",
       "      <td>53340</td>\n",
       "      <td>17337</td>\n",
       "      <td>Vacation</td>\n",
       "      <td>Yes</td>\n",
       "    </tr>\n",
       "  </tbody>\n",
       "</table>\n",
       "</div>"
      ],
      "text/plain": [
       "   Customer_ID      Customer_Name  Age  Income  Loan_Amount Loan_Purpose  \\\n",
       "0         1001         James Reid   55   96964        36890    Education   \n",
       "1         1002      Howard Mathis   61   59846        56517    Education   \n",
       "2         1003      Karen Johnson   23   43879        42857         Home   \n",
       "3         1004           Jose Lee   54   27261        51149      Medical   \n",
       "4         1005  Danielle Caldwell   58   53340        17337     Vacation   \n",
       "\n",
       "  Approved  \n",
       "0      Yes  \n",
       "1      Yes  \n",
       "2      Yes  \n",
       "3       No  \n",
       "4      Yes  "
      ]
     },
     "execution_count": 16,
     "metadata": {},
     "output_type": "execute_result"
    }
   ],
   "source": [
    "# Exploring the dataset\n",
    "loan_df.head()"
   ]
  },
  {
   "cell_type": "code",
   "execution_count": 17,
   "metadata": {},
   "outputs": [],
   "source": [
    "# Type Conversion\n",
    "loan_df['Loan_Amount'] = pd.to_numeric(loan_df['Loan_Amount'], errors='coerce')\n",
    "loan_df['Income'] = pd.to_numeric(loan_df['Income'], errors='coerce')\n",
    "loan_df['Approved'] = loan_df['Approved'].astype('category')\n",
    "loan_df['Loan_Purpose'] = loan_df['Loan_Purpose'].astype('category')"
   ]
  },
  {
   "cell_type": "code",
   "execution_count": 18,
   "id": "fd62b471",
   "metadata": {},
   "outputs": [],
   "source": [
    "# Column Cleanup\n",
    "loan_df.columns = loan_df.columns.str.strip().str.lower().str.replace(\" \", \"_\")"
   ]
  },
  {
   "cell_type": "code",
   "execution_count": 19,
   "id": "8db29b92",
   "metadata": {},
   "outputs": [],
   "source": [
    "# Save\n",
    "save_csv(loan_df, '../assets/loan_cleaned.csv')"
   ]
  },
  {
   "cell_type": "markdown",
   "id": "a034c325",
   "metadata": {},
   "source": [
    "## Multi-Sheet Bank Loans - Excel"
   ]
  },
  {
   "cell_type": "code",
   "execution_count": 20,
   "id": "d08a708a",
   "metadata": {},
   "outputs": [
    {
     "name": "stdout",
     "output_type": "stream",
     "text": [
      "Sheets found: ['East', 'West', 'North', 'South']\n"
     ]
    }
   ],
   "source": [
    "# Load Excel file\n",
    "multi_sheet_excel = pd.ExcelFile(DATA_DIR / 'bank_loans_multisheet.xlsx')\n",
    "print(\"Sheets found:\", multi_sheet_excel.sheet_names)"
   ]
  },
  {
   "cell_type": "code",
   "execution_count": 21,
   "id": "f83df108",
   "metadata": {},
   "outputs": [],
   "source": [
    "# Loop through each region and save cleaned version\n",
    "for sheet in multi_sheet_excel.sheet_names:\n",
    "    regional_df = multi_sheet_excel.parse(sheet_name=sheet)\n",
    "\n",
    "    # Type Conversion\n",
    "    regional_df['Loan_Amount'] = pd.to_numeric(regional_df['Loan_Amount'], errors='coerce')\n",
    "    regional_df['Income'] = pd.to_numeric(regional_df['Income'], errors='coerce')\n",
    "    regional_df['Approved'] = regional_df['Approved'].astype('category')\n",
    "    regional_df['Loan_Purpose'] = regional_df['Loan_Purpose'].astype('category')\n",
    "\n",
    "    # Column Cleanup\n",
    "    regional_df.columns = regional_df.columns.str.strip().str.lower().str.replace(\" \", \"_\")\n",
    "\n",
    "    # Save\n",
    "    save_csv(regional_df, f'../assets/loan_cleaned_{sheet.lower()}.csv')"
   ]
  },
  {
   "cell_type": "markdown",
   "id": "a8f6b290",
   "metadata": {},
   "source": [
    "## Covid Data -- Parquet"
   ]
  },
  {
   "cell_type": "code",
   "execution_count": 22,
   "id": "92ed0445",
   "metadata": {},
   "outputs": [
    {
     "name": "stdout",
     "output_type": "stream",
     "text": [
      "<class 'pandas.core.frame.DataFrame'>\n",
      "RangeIndex: 10000 entries, 0 to 9999\n",
      "Data columns (total 6 columns):\n",
      " #   Column        Non-Null Count  Dtype         \n",
      "---  ------        --------------  -----         \n",
      " 0   date          10000 non-null  datetime64[ns]\n",
      " 1   country       10000 non-null  object        \n",
      " 2   variant       10000 non-null  object        \n",
      " 3   new_cases     10000 non-null  int64         \n",
      " 4   new_deaths    10000 non-null  int64         \n",
      " 5   hospitalized  10000 non-null  int64         \n",
      "dtypes: datetime64[ns](1), int64(3), object(2)\n",
      "memory usage: 468.9+ KB\n",
      "Shape: (10000, 6)\n"
     ]
    }
   ],
   "source": [
    "# Inspect\n",
    "covid_df.info()\n",
    "print(\"Shape:\", covid_df.shape)"
   ]
  },
  {
   "cell_type": "code",
   "execution_count": 23,
   "id": "52ecdb1f",
   "metadata": {},
   "outputs": [
    {
     "data": {
      "text/html": [
       "<div>\n",
       "<style scoped>\n",
       "    .dataframe tbody tr th:only-of-type {\n",
       "        vertical-align: middle;\n",
       "    }\n",
       "\n",
       "    .dataframe tbody tr th {\n",
       "        vertical-align: top;\n",
       "    }\n",
       "\n",
       "    .dataframe thead th {\n",
       "        text-align: right;\n",
       "    }\n",
       "</style>\n",
       "<table border=\"1\" class=\"dataframe\">\n",
       "  <thead>\n",
       "    <tr style=\"text-align: right;\">\n",
       "      <th></th>\n",
       "      <th>date</th>\n",
       "      <th>country</th>\n",
       "      <th>variant</th>\n",
       "      <th>new_cases</th>\n",
       "      <th>new_deaths</th>\n",
       "      <th>hospitalized</th>\n",
       "    </tr>\n",
       "  </thead>\n",
       "  <tbody>\n",
       "    <tr>\n",
       "      <th>0</th>\n",
       "      <td>2020-01-01</td>\n",
       "      <td>Germany</td>\n",
       "      <td>Omicron</td>\n",
       "      <td>512</td>\n",
       "      <td>10</td>\n",
       "      <td>613</td>\n",
       "    </tr>\n",
       "    <tr>\n",
       "      <th>1</th>\n",
       "      <td>2020-01-02</td>\n",
       "      <td>Germany</td>\n",
       "      <td>XBB</td>\n",
       "      <td>524</td>\n",
       "      <td>11</td>\n",
       "      <td>1911</td>\n",
       "    </tr>\n",
       "    <tr>\n",
       "      <th>2</th>\n",
       "      <td>2020-01-03</td>\n",
       "      <td>Canada</td>\n",
       "      <td>Omicron</td>\n",
       "      <td>502</td>\n",
       "      <td>9</td>\n",
       "      <td>1059</td>\n",
       "    </tr>\n",
       "    <tr>\n",
       "      <th>3</th>\n",
       "      <td>2020-01-04</td>\n",
       "      <td>Brazil</td>\n",
       "      <td>XBB</td>\n",
       "      <td>470</td>\n",
       "      <td>10</td>\n",
       "      <td>224</td>\n",
       "    </tr>\n",
       "    <tr>\n",
       "      <th>4</th>\n",
       "      <td>2020-01-05</td>\n",
       "      <td>USA</td>\n",
       "      <td>BA.5</td>\n",
       "      <td>497</td>\n",
       "      <td>16</td>\n",
       "      <td>2239</td>\n",
       "    </tr>\n",
       "  </tbody>\n",
       "</table>\n",
       "</div>"
      ],
      "text/plain": [
       "        date  country  variant  new_cases  new_deaths  hospitalized\n",
       "0 2020-01-01  Germany  Omicron        512          10           613\n",
       "1 2020-01-02  Germany      XBB        524          11          1911\n",
       "2 2020-01-03   Canada  Omicron        502           9          1059\n",
       "3 2020-01-04   Brazil      XBB        470          10           224\n",
       "4 2020-01-05      USA     BA.5        497          16          2239"
      ]
     },
     "execution_count": 23,
     "metadata": {},
     "output_type": "execute_result"
    }
   ],
   "source": [
    "# Exploring the dataset\n",
    "covid_df.head()"
   ]
  },
  {
   "cell_type": "code",
   "execution_count": 24,
   "id": "22044f62",
   "metadata": {},
   "outputs": [],
   "source": [
    "# Type Conversion\n",
    "covid_df['date'] = pd.to_datetime(covid_df['date'], errors='coerce')\n",
    "covid_df['country'] = covid_df['country'].astype('category')\n",
    "covid_df['variant'] = covid_df['variant'].astype('category')"
   ]
  },
  {
   "cell_type": "code",
   "execution_count": 25,
   "id": "2fb2b698",
   "metadata": {},
   "outputs": [],
   "source": [
    "# Column Cleanup\n",
    "covid_df.columns = covid_df.columns.str.strip().str.lower().str.replace(\" \", \"_\")"
   ]
  },
  {
   "cell_type": "code",
   "execution_count": 26,
   "id": "bc3fd8b4",
   "metadata": {},
   "outputs": [],
   "source": [
    "# Save\n",
    "save_csv(covid_df, '../assets/covid_cleaned.csv')"
   ]
  },
  {
   "cell_type": "markdown",
   "id": "a4ec38ad",
   "metadata": {},
   "source": [
    "---\n",
    "## ✅ Summary\n",
    "\n",
    "We successfully:\n",
    "\n",
    "- Loaded **five large datasets** from CSV, JSON, Excel (single & multi-sheet), and Parquet\n",
    "- Inspected structure, shape, and memory usage\n",
    "- Performed type conversions (e.g., dates, categoricals)\n",
    "- Cleaned column names into `snake_case`\n",
    "- Saved preprocessed versions to `assets/` for downstream analysis\n",
    "\n",
    "📦 Next: We’ll dive into **data cleaning** — missing values, outliers, deduplication — in `02_data_cleaning.ipynb`.\n"
   ]
  }
 ],
 "metadata": {
  "kernelspec": {
   "display_name": "pandas_env",
   "language": "python",
   "name": "python3"
  },
  "language_info": {
   "codemirror_mode": {
    "name": "ipython",
    "version": 3
   },
   "file_extension": ".py",
   "mimetype": "text/x-python",
   "name": "python",
   "nbconvert_exporter": "python",
   "pygments_lexer": "ipython3",
   "version": "3.11.11"
  }
 },
 "nbformat": 4,
 "nbformat_minor": 5
}
