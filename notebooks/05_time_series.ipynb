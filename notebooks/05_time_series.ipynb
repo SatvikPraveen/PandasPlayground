{
 "cells": [
  {
   "cell_type": "markdown",
   "id": "e96d50ca",
   "metadata": {},
   "source": [
    "#  🧩 Notebook 05: Time Series Analysis in pandas: Datetime Indexing, Resampling & Trends\n",
    "\n"
   ]
  },
  {
   "cell_type": "code",
   "execution_count": 1,
   "id": "59af50d0",
   "metadata": {},
   "outputs": [],
   "source": [
    "# Notebook import setup\n",
    "import sys\n",
    "from pathlib import Path\n",
    "\n",
    "PROJECT_ROOT = Path.cwd().parent\n",
    "if str(PROJECT_ROOT) not in sys.path:\n",
    "    sys.path.append(str(PROJECT_ROOT))\n",
    "\n",
    "from scripts import utils_io"
   ]
  },
  {
   "cell_type": "markdown",
   "id": "fddc05a8",
   "metadata": {},
   "source": [
    "## 🧭 1. Notebook Setup"
   ]
  },
  {
   "cell_type": "code",
   "execution_count": 2,
   "id": "8694f1aa",
   "metadata": {},
   "outputs": [
    {
     "name": "stdout",
     "output_type": "stream",
     "text": [
      "✅ Data loaded and datetime columns converted.\n"
     ]
    }
   ],
   "source": [
    "import pandas as pd\n",
    "import numpy as np\n",
    "\n",
    "from scripts import utils_io, agg_utils\n",
    "\n",
    "# Load cleaned datasets\n",
    "superstore = utils_io.load_csv(\"../assets/superstore_final.csv\")\n",
    "covid = utils_io.load_csv(\"../assets/covid_final.csv\")\n",
    "weather = utils_io.load_csv(\"../assets/weather_final.csv\")\n",
    "\n",
    "# Convert necessary columns to datetime\n",
    "superstore[\"order_date\"] = pd.to_datetime(superstore[\"order_date\"])\n",
    "covid[\"date\"] = pd.to_datetime(covid[\"date\"])\n",
    "weather[\"date\"] = pd.to_datetime(weather[\"date\"])\n",
    "\n",
    "# Optional: Set datetime index for superstore\n",
    "superstore.set_index(\"order_date\", inplace=True)\n",
    "\n",
    "print(\"✅ Data loaded and datetime columns converted.\")"
   ]
  },
  {
   "cell_type": "markdown",
   "id": "88448033",
   "metadata": {},
   "source": [
    "📌 2. DateTime Column Exploration\n",
    "> 🔍 This section explores the structure of datetime columns and extracts useful components (like month, day, weekday, etc.)."
   ]
  },
  {
   "cell_type": "markdown",
   "id": "15e06e37",
   "metadata": {},
   "source": [
    "### 🔍 2.1 Explore datetime columns"
   ]
  },
  {
   "cell_type": "code",
   "execution_count": 3,
   "id": "a9a9c0a1",
   "metadata": {},
   "outputs": [
    {
     "name": "stdout",
     "output_type": "stream",
     "text": [
      "datetime64[ns]\n",
      "datetime64[ns]\n",
      "datetime64[ns]\n",
      "🗓 Superstore order dates:\n"
     ]
    },
    {
     "data": {
      "text/plain": [
       "order_date\n",
       "2020-01-01   2020-01-01\n",
       "2020-01-02   2020-01-02\n",
       "2020-01-03   2020-01-03\n",
       "2020-01-04   2020-01-04\n",
       "2020-01-05   2020-01-05\n",
       "Name: order_date, dtype: datetime64[ns]"
      ]
     },
     "metadata": {},
     "output_type": "display_data"
    },
    {
     "name": "stdout",
     "output_type": "stream",
     "text": [
      "🦠 COVID dates:\n"
     ]
    },
    {
     "data": {
      "text/plain": [
       "0   2020-01-01\n",
       "1   2020-01-02\n",
       "2   2020-01-03\n",
       "3   2020-01-04\n",
       "4   2020-01-05\n",
       "Name: date, dtype: datetime64[ns]"
      ]
     },
     "metadata": {},
     "output_type": "display_data"
    },
    {
     "name": "stdout",
     "output_type": "stream",
     "text": [
      "🌦 Weather dates:\n"
     ]
    },
    {
     "data": {
      "text/plain": [
       "0   2022-01-01\n",
       "1   2022-01-02\n",
       "2   2022-01-03\n",
       "3   2022-01-04\n",
       "4   2022-01-05\n",
       "Name: date, dtype: datetime64[ns]"
      ]
     },
     "metadata": {},
     "output_type": "display_data"
    }
   ],
   "source": [
    "# Check datetime index and dtypes\n",
    "print(superstore.index.dtype)\n",
    "print(covid[\"date\"].dtype)\n",
    "print(weather[\"date\"].dtype)\n",
    "\n",
    "# Display first few dates\n",
    "print(\"🗓 Superstore order dates:\")\n",
    "display(superstore.index.to_series().head())\n",
    "\n",
    "print(\"🦠 COVID dates:\")\n",
    "display(covid[\"date\"].head())\n",
    "\n",
    "print(\"🌦 Weather dates:\")\n",
    "display(weather[\"date\"].head())"
   ]
  },
  {
   "cell_type": "markdown",
   "id": "3afc5016",
   "metadata": {},
   "source": [
    "### 🧠 2.2 Extract features from datetime"
   ]
  },
  {
   "cell_type": "code",
   "execution_count": 4,
   "id": "77db1fb1",
   "metadata": {},
   "outputs": [
    {
     "data": {
      "text/html": [
       "<div>\n",
       "<style scoped>\n",
       "    .dataframe tbody tr th:only-of-type {\n",
       "        vertical-align: middle;\n",
       "    }\n",
       "\n",
       "    .dataframe tbody tr th {\n",
       "        vertical-align: top;\n",
       "    }\n",
       "\n",
       "    .dataframe thead th {\n",
       "        text-align: right;\n",
       "    }\n",
       "</style>\n",
       "<table border=\"1\" class=\"dataframe\">\n",
       "  <thead>\n",
       "    <tr style=\"text-align: right;\">\n",
       "      <th></th>\n",
       "      <th>order_date</th>\n",
       "      <th>year</th>\n",
       "      <th>month</th>\n",
       "      <th>day</th>\n",
       "      <th>weekday</th>\n",
       "      <th>is_weekend</th>\n",
       "    </tr>\n",
       "  </thead>\n",
       "  <tbody>\n",
       "    <tr>\n",
       "      <th>0</th>\n",
       "      <td>2020-01-01</td>\n",
       "      <td>2020</td>\n",
       "      <td>1</td>\n",
       "      <td>1</td>\n",
       "      <td>Wednesday</td>\n",
       "      <td>False</td>\n",
       "    </tr>\n",
       "    <tr>\n",
       "      <th>1</th>\n",
       "      <td>2020-01-02</td>\n",
       "      <td>2020</td>\n",
       "      <td>1</td>\n",
       "      <td>2</td>\n",
       "      <td>Thursday</td>\n",
       "      <td>False</td>\n",
       "    </tr>\n",
       "    <tr>\n",
       "      <th>2</th>\n",
       "      <td>2020-01-03</td>\n",
       "      <td>2020</td>\n",
       "      <td>1</td>\n",
       "      <td>3</td>\n",
       "      <td>Friday</td>\n",
       "      <td>False</td>\n",
       "    </tr>\n",
       "    <tr>\n",
       "      <th>3</th>\n",
       "      <td>2020-01-04</td>\n",
       "      <td>2020</td>\n",
       "      <td>1</td>\n",
       "      <td>4</td>\n",
       "      <td>Saturday</td>\n",
       "      <td>True</td>\n",
       "    </tr>\n",
       "    <tr>\n",
       "      <th>4</th>\n",
       "      <td>2020-01-05</td>\n",
       "      <td>2020</td>\n",
       "      <td>1</td>\n",
       "      <td>5</td>\n",
       "      <td>Sunday</td>\n",
       "      <td>True</td>\n",
       "    </tr>\n",
       "  </tbody>\n",
       "</table>\n",
       "</div>"
      ],
      "text/plain": [
       "  order_date  year  month  day    weekday  is_weekend\n",
       "0 2020-01-01  2020      1    1  Wednesday       False\n",
       "1 2020-01-02  2020      1    2   Thursday       False\n",
       "2 2020-01-03  2020      1    3     Friday       False\n",
       "3 2020-01-04  2020      1    4   Saturday        True\n",
       "4 2020-01-05  2020      1    5     Sunday        True"
      ]
     },
     "execution_count": 4,
     "metadata": {},
     "output_type": "execute_result"
    }
   ],
   "source": [
    "# Reset index temporarily for feature extraction\n",
    "superstore_reset = superstore.reset_index()\n",
    "\n",
    "# Extract datetime parts\n",
    "superstore_reset[\"year\"] = superstore_reset[\"order_date\"].dt.year\n",
    "superstore_reset[\"month\"] = superstore_reset[\"order_date\"].dt.month\n",
    "superstore_reset[\"day\"] = superstore_reset[\"order_date\"].dt.day\n",
    "superstore_reset[\"weekday\"] = superstore_reset[\"order_date\"].dt.day_name()\n",
    "superstore_reset[\"is_weekend\"] = superstore_reset[\"weekday\"].isin([\"Saturday\", \"Sunday\"])\n",
    "\n",
    "superstore_reset[[\"order_date\", \"year\", \"month\", \"day\", \"weekday\", \"is_weekend\"]].head()"
   ]
  },
  {
   "cell_type": "markdown",
   "id": "c1cd1ca9",
   "metadata": {},
   "source": [
    "## 📊 3. Time-based Aggregations and Trends\n",
    "This section summarizes key business metrics over time (daily, monthly, etc.) to identify patterns or trends.\n",
    "\n",
    "### 📈 3.1 Daily Sales & Profit Trend\n"
   ]
  },
  {
   "cell_type": "code",
   "execution_count": 5,
   "id": "3c9fa8e3",
   "metadata": {},
   "outputs": [
    {
     "data": {
      "text/html": [
       "<div>\n",
       "<style scoped>\n",
       "    .dataframe tbody tr th:only-of-type {\n",
       "        vertical-align: middle;\n",
       "    }\n",
       "\n",
       "    .dataframe tbody tr th {\n",
       "        vertical-align: top;\n",
       "    }\n",
       "\n",
       "    .dataframe thead th {\n",
       "        text-align: right;\n",
       "    }\n",
       "</style>\n",
       "<table border=\"1\" class=\"dataframe\">\n",
       "  <thead>\n",
       "    <tr style=\"text-align: right;\">\n",
       "      <th></th>\n",
       "      <th>order_date</th>\n",
       "      <th>sales</th>\n",
       "      <th>profit</th>\n",
       "    </tr>\n",
       "  </thead>\n",
       "  <tbody>\n",
       "    <tr>\n",
       "      <th>0</th>\n",
       "      <td>2020-01-01</td>\n",
       "      <td>1292.63</td>\n",
       "      <td>22.94</td>\n",
       "    </tr>\n",
       "    <tr>\n",
       "      <th>1</th>\n",
       "      <td>2020-01-02</td>\n",
       "      <td>1947.16</td>\n",
       "      <td>205.52</td>\n",
       "    </tr>\n",
       "    <tr>\n",
       "      <th>2</th>\n",
       "      <td>2020-01-03</td>\n",
       "      <td>1774.42</td>\n",
       "      <td>23.84</td>\n",
       "    </tr>\n",
       "    <tr>\n",
       "      <th>3</th>\n",
       "      <td>2020-01-04</td>\n",
       "      <td>591.01</td>\n",
       "      <td>64.85</td>\n",
       "    </tr>\n",
       "    <tr>\n",
       "      <th>4</th>\n",
       "      <td>2020-01-05</td>\n",
       "      <td>1969.55</td>\n",
       "      <td>58.99</td>\n",
       "    </tr>\n",
       "  </tbody>\n",
       "</table>\n",
       "</div>"
      ],
      "text/plain": [
       "  order_date    sales  profit\n",
       "0 2020-01-01  1292.63   22.94\n",
       "1 2020-01-02  1947.16  205.52\n",
       "2 2020-01-03  1774.42   23.84\n",
       "3 2020-01-04   591.01   64.85\n",
       "4 2020-01-05  1969.55   58.99"
      ]
     },
     "execution_count": 5,
     "metadata": {},
     "output_type": "execute_result"
    }
   ],
   "source": [
    "daily_trend = (\n",
    "    superstore\n",
    "    .groupby(\"order_date\")[[\"sales\", \"profit\"]]\n",
    "    .sum()\n",
    "    .reset_index()\n",
    ")\n",
    "\n",
    "daily_trend.head()"
   ]
  },
  {
   "cell_type": "markdown",
   "id": "e470932a",
   "metadata": {},
   "source": [
    "### 📅 3.2 Monthly Aggregation"
   ]
  },
  {
   "cell_type": "code",
   "execution_count": 6,
   "id": "5c40b3f2",
   "metadata": {},
   "outputs": [
    {
     "data": {
      "text/html": [
       "<div>\n",
       "<style scoped>\n",
       "    .dataframe tbody tr th:only-of-type {\n",
       "        vertical-align: middle;\n",
       "    }\n",
       "\n",
       "    .dataframe tbody tr th {\n",
       "        vertical-align: top;\n",
       "    }\n",
       "\n",
       "    .dataframe thead th {\n",
       "        text-align: right;\n",
       "    }\n",
       "</style>\n",
       "<table border=\"1\" class=\"dataframe\">\n",
       "  <thead>\n",
       "    <tr style=\"text-align: right;\">\n",
       "      <th></th>\n",
       "      <th>order_month</th>\n",
       "      <th>sales</th>\n",
       "      <th>profit</th>\n",
       "    </tr>\n",
       "  </thead>\n",
       "  <tbody>\n",
       "    <tr>\n",
       "      <th>0</th>\n",
       "      <td>2020-01</td>\n",
       "      <td>36627.07</td>\n",
       "      <td>1490.90</td>\n",
       "    </tr>\n",
       "    <tr>\n",
       "      <th>1</th>\n",
       "      <td>2020-02</td>\n",
       "      <td>26120.18</td>\n",
       "      <td>1775.53</td>\n",
       "    </tr>\n",
       "    <tr>\n",
       "      <th>2</th>\n",
       "      <td>2020-03</td>\n",
       "      <td>33591.53</td>\n",
       "      <td>1297.55</td>\n",
       "    </tr>\n",
       "    <tr>\n",
       "      <th>3</th>\n",
       "      <td>2020-04</td>\n",
       "      <td>24267.89</td>\n",
       "      <td>1186.19</td>\n",
       "    </tr>\n",
       "    <tr>\n",
       "      <th>4</th>\n",
       "      <td>2020-05</td>\n",
       "      <td>30944.10</td>\n",
       "      <td>1753.54</td>\n",
       "    </tr>\n",
       "  </tbody>\n",
       "</table>\n",
       "</div>"
      ],
      "text/plain": [
       "  order_month     sales   profit\n",
       "0     2020-01  36627.07  1490.90\n",
       "1     2020-02  26120.18  1775.53\n",
       "2     2020-03  33591.53  1297.55\n",
       "3     2020-04  24267.89  1186.19\n",
       "4     2020-05  30944.10  1753.54"
      ]
     },
     "execution_count": 6,
     "metadata": {},
     "output_type": "execute_result"
    }
   ],
   "source": [
    "superstore[\"order_month\"] = superstore.index.to_period(\"M\")\n",
    "\n",
    "monthly_sales = (\n",
    "    superstore\n",
    "    .groupby(\"order_month\")[[\"sales\", \"profit\"]]\n",
    "    .sum()\n",
    "    .reset_index()\n",
    ")\n",
    "\n",
    "monthly_sales[\"order_month\"] = monthly_sales[\"order_month\"].astype(str)\n",
    "monthly_sales.head()"
   ]
  },
  {
   "cell_type": "markdown",
   "id": "42bbbba4",
   "metadata": {},
   "source": [
    "### 📌 3.3 COVID Monthly Aggregation"
   ]
  },
  {
   "cell_type": "code",
   "execution_count": 7,
   "id": "625cbb77",
   "metadata": {},
   "outputs": [
    {
     "data": {
      "text/html": [
       "<div>\n",
       "<style scoped>\n",
       "    .dataframe tbody tr th:only-of-type {\n",
       "        vertical-align: middle;\n",
       "    }\n",
       "\n",
       "    .dataframe tbody tr th {\n",
       "        vertical-align: top;\n",
       "    }\n",
       "\n",
       "    .dataframe thead th {\n",
       "        text-align: right;\n",
       "    }\n",
       "</style>\n",
       "<table border=\"1\" class=\"dataframe\">\n",
       "  <thead>\n",
       "    <tr style=\"text-align: right;\">\n",
       "      <th></th>\n",
       "      <th>month</th>\n",
       "      <th>new_cases</th>\n",
       "      <th>new_deaths</th>\n",
       "    </tr>\n",
       "  </thead>\n",
       "  <tbody>\n",
       "    <tr>\n",
       "      <th>0</th>\n",
       "      <td>2020-01</td>\n",
       "      <td>15558</td>\n",
       "      <td>313</td>\n",
       "    </tr>\n",
       "    <tr>\n",
       "      <th>1</th>\n",
       "      <td>2020-02</td>\n",
       "      <td>14543</td>\n",
       "      <td>277</td>\n",
       "    </tr>\n",
       "    <tr>\n",
       "      <th>2</th>\n",
       "      <td>2020-03</td>\n",
       "      <td>15392</td>\n",
       "      <td>339</td>\n",
       "    </tr>\n",
       "    <tr>\n",
       "      <th>3</th>\n",
       "      <td>2020-04</td>\n",
       "      <td>15148</td>\n",
       "      <td>290</td>\n",
       "    </tr>\n",
       "    <tr>\n",
       "      <th>4</th>\n",
       "      <td>2020-05</td>\n",
       "      <td>15542</td>\n",
       "      <td>328</td>\n",
       "    </tr>\n",
       "  </tbody>\n",
       "</table>\n",
       "</div>"
      ],
      "text/plain": [
       "     month  new_cases  new_deaths\n",
       "0  2020-01      15558         313\n",
       "1  2020-02      14543         277\n",
       "2  2020-03      15392         339\n",
       "3  2020-04      15148         290\n",
       "4  2020-05      15542         328"
      ]
     },
     "execution_count": 7,
     "metadata": {},
     "output_type": "execute_result"
    }
   ],
   "source": [
    "covid[\"month\"] = covid[\"date\"].dt.to_period(\"M\")\n",
    "\n",
    "covid_monthly = (\n",
    "    covid\n",
    "    .groupby(\"month\")[[\"new_cases\", \"new_deaths\"]]\n",
    "    .sum()\n",
    "    .reset_index()\n",
    ")\n",
    "\n",
    "covid_monthly[\"month\"] = covid_monthly[\"month\"].astype(str)\n",
    "covid_monthly.head()"
   ]
  },
  {
   "cell_type": "markdown",
   "id": "407975d0",
   "metadata": {},
   "source": [
    "## 🔗 4. Time Series Merging & Rolling Metrics\n",
    "This section combines datasets by date to understand how external events (e.g., COVID) influence business metrics.\n",
    "\n",
    "### 🔁 4.1 Merge Monthly Sales with COVID Data"
   ]
  },
  {
   "cell_type": "code",
   "execution_count": 8,
   "id": "5abe8555",
   "metadata": {},
   "outputs": [
    {
     "name": "stdout",
     "output_type": "stream",
     "text": [
      "✅ Merged on ['order_date'] using 'inner' join — shape: (329, 6)\n"
     ]
    },
    {
     "data": {
      "text/html": [
       "<div>\n",
       "<style scoped>\n",
       "    .dataframe tbody tr th:only-of-type {\n",
       "        vertical-align: middle;\n",
       "    }\n",
       "\n",
       "    .dataframe tbody tr th {\n",
       "        vertical-align: top;\n",
       "    }\n",
       "\n",
       "    .dataframe thead th {\n",
       "        text-align: right;\n",
       "    }\n",
       "</style>\n",
       "<table border=\"1\" class=\"dataframe\">\n",
       "  <thead>\n",
       "    <tr style=\"text-align: right;\">\n",
       "      <th></th>\n",
       "      <th>order_date</th>\n",
       "      <th>sales</th>\n",
       "      <th>profit</th>\n",
       "      <th>month</th>\n",
       "      <th>new_cases</th>\n",
       "      <th>new_deaths</th>\n",
       "    </tr>\n",
       "  </thead>\n",
       "  <tbody>\n",
       "    <tr>\n",
       "      <th>0</th>\n",
       "      <td>2020-01-01</td>\n",
       "      <td>36627.07</td>\n",
       "      <td>1490.90</td>\n",
       "      <td>2020-01</td>\n",
       "      <td>15558</td>\n",
       "      <td>313</td>\n",
       "    </tr>\n",
       "    <tr>\n",
       "      <th>1</th>\n",
       "      <td>2020-02-01</td>\n",
       "      <td>26120.18</td>\n",
       "      <td>1775.53</td>\n",
       "      <td>2020-02</td>\n",
       "      <td>14543</td>\n",
       "      <td>277</td>\n",
       "    </tr>\n",
       "    <tr>\n",
       "      <th>2</th>\n",
       "      <td>2020-03-01</td>\n",
       "      <td>33591.53</td>\n",
       "      <td>1297.55</td>\n",
       "      <td>2020-03</td>\n",
       "      <td>15392</td>\n",
       "      <td>339</td>\n",
       "    </tr>\n",
       "    <tr>\n",
       "      <th>3</th>\n",
       "      <td>2020-04-01</td>\n",
       "      <td>24267.89</td>\n",
       "      <td>1186.19</td>\n",
       "      <td>2020-04</td>\n",
       "      <td>15148</td>\n",
       "      <td>290</td>\n",
       "    </tr>\n",
       "    <tr>\n",
       "      <th>4</th>\n",
       "      <td>2020-05-01</td>\n",
       "      <td>30944.10</td>\n",
       "      <td>1753.54</td>\n",
       "      <td>2020-05</td>\n",
       "      <td>15542</td>\n",
       "      <td>328</td>\n",
       "    </tr>\n",
       "  </tbody>\n",
       "</table>\n",
       "</div>"
      ],
      "text/plain": [
       "  order_date     sales   profit    month  new_cases  new_deaths\n",
       "0 2020-01-01  36627.07  1490.90  2020-01      15558         313\n",
       "1 2020-02-01  26120.18  1775.53  2020-02      14543         277\n",
       "2 2020-03-01  33591.53  1297.55  2020-03      15392         339\n",
       "3 2020-04-01  24267.89  1186.19  2020-04      15148         290\n",
       "4 2020-05-01  30944.10  1753.54  2020-05      15542         328"
      ]
     },
     "execution_count": 8,
     "metadata": {},
     "output_type": "execute_result"
    }
   ],
   "source": [
    "# Prepare date columns\n",
    "superstore_monthly = monthly_sales.rename(columns={\"order_month\": \"order_date\"})\n",
    "superstore_monthly[\"order_date\"] = pd.to_datetime(superstore_monthly[\"order_date\"])\n",
    "covid_monthly[\"order_date\"] = pd.to_datetime(covid_monthly[\"month\"])\n",
    "\n",
    "# Merge on month\n",
    "sales_covid = agg_utils.safe_merge(\n",
    "    df1=superstore_monthly,\n",
    "    df2=covid_monthly,\n",
    "    on=\"order_date\",\n",
    "    how=\"inner\",\n",
    "    parse_dates=True\n",
    ")\n",
    "sales_covid.head()"
   ]
  },
  {
   "cell_type": "markdown",
   "id": "bd5dbf73",
   "metadata": {},
   "source": [
    "### 📉 4.2 Rolling Averages & Cumulative Sales"
   ]
  },
  {
   "cell_type": "code",
   "execution_count": 9,
   "id": "17825d9a",
   "metadata": {},
   "outputs": [
    {
     "data": {
      "text/html": [
       "<div>\n",
       "<style scoped>\n",
       "    .dataframe tbody tr th:only-of-type {\n",
       "        vertical-align: middle;\n",
       "    }\n",
       "\n",
       "    .dataframe tbody tr th {\n",
       "        vertical-align: top;\n",
       "    }\n",
       "\n",
       "    .dataframe thead th {\n",
       "        text-align: right;\n",
       "    }\n",
       "</style>\n",
       "<table border=\"1\" class=\"dataframe\">\n",
       "  <thead>\n",
       "    <tr style=\"text-align: right;\">\n",
       "      <th></th>\n",
       "      <th>order_date</th>\n",
       "      <th>sales</th>\n",
       "      <th>cum_sales</th>\n",
       "      <th>profit</th>\n",
       "      <th>rolling_profit</th>\n",
       "    </tr>\n",
       "  </thead>\n",
       "  <tbody>\n",
       "    <tr>\n",
       "      <th>324</th>\n",
       "      <td>2047-01-01</td>\n",
       "      <td>31448.70</td>\n",
       "      <td>9947147.79</td>\n",
       "      <td>1422.22</td>\n",
       "      <td>1690.163333</td>\n",
       "    </tr>\n",
       "    <tr>\n",
       "      <th>325</th>\n",
       "      <td>2047-02-01</td>\n",
       "      <td>27719.81</td>\n",
       "      <td>9974867.60</td>\n",
       "      <td>1762.42</td>\n",
       "      <td>1639.266667</td>\n",
       "    </tr>\n",
       "    <tr>\n",
       "      <th>326</th>\n",
       "      <td>2047-03-01</td>\n",
       "      <td>35454.26</td>\n",
       "      <td>10010321.86</td>\n",
       "      <td>1495.51</td>\n",
       "      <td>1560.050000</td>\n",
       "    </tr>\n",
       "    <tr>\n",
       "      <th>327</th>\n",
       "      <td>2047-04-01</td>\n",
       "      <td>29930.82</td>\n",
       "      <td>10040252.68</td>\n",
       "      <td>1679.17</td>\n",
       "      <td>1645.700000</td>\n",
       "    </tr>\n",
       "    <tr>\n",
       "      <th>328</th>\n",
       "      <td>2047-05-01</td>\n",
       "      <td>17422.03</td>\n",
       "      <td>10057674.71</td>\n",
       "      <td>912.72</td>\n",
       "      <td>1362.466667</td>\n",
       "    </tr>\n",
       "  </tbody>\n",
       "</table>\n",
       "</div>"
      ],
      "text/plain": [
       "    order_date     sales    cum_sales   profit  rolling_profit\n",
       "324 2047-01-01  31448.70   9947147.79  1422.22     1690.163333\n",
       "325 2047-02-01  27719.81   9974867.60  1762.42     1639.266667\n",
       "326 2047-03-01  35454.26  10010321.86  1495.51     1560.050000\n",
       "327 2047-04-01  29930.82  10040252.68  1679.17     1645.700000\n",
       "328 2047-05-01  17422.03  10057674.71   912.72     1362.466667"
      ]
     },
     "execution_count": 9,
     "metadata": {},
     "output_type": "execute_result"
    }
   ],
   "source": [
    "# Rolling Profit and Cumulative Sales Trend\n",
    "sales_covid[\"cum_sales\"] = sales_covid[\"sales\"].cumsum()\n",
    "sales_covid[\"rolling_profit\"] = sales_covid[\"profit\"].rolling(window=3).mean()\n",
    "\n",
    "sales_covid[[\"order_date\", \"sales\", \"cum_sales\", \"profit\", \"rolling_profit\"]].tail()"
   ]
  },
  {
   "cell_type": "markdown",
   "id": "ad6b9709",
   "metadata": {},
   "source": [
    "## 🧩 5. Multi-key Merging Scenarios\n",
    "\n",
    "This section helps simulate situations where datasets need to be merged on multiple keys, such as combining regional and temporal data."
   ]
  },
  {
   "cell_type": "markdown",
   "id": "234266b4",
   "metadata": {},
   "source": [
    "### 🔍 5.1 Simulate Region-wise Monthly Superstore Summary"
   ]
  },
  {
   "cell_type": "code",
   "execution_count": 10,
   "id": "d9ea0eb5",
   "metadata": {},
   "outputs": [
    {
     "data": {
      "text/html": [
       "<div>\n",
       "<style scoped>\n",
       "    .dataframe tbody tr th:only-of-type {\n",
       "        vertical-align: middle;\n",
       "    }\n",
       "\n",
       "    .dataframe tbody tr th {\n",
       "        vertical-align: top;\n",
       "    }\n",
       "\n",
       "    .dataframe thead th {\n",
       "        text-align: right;\n",
       "    }\n",
       "</style>\n",
       "<table border=\"1\" class=\"dataframe\">\n",
       "  <thead>\n",
       "    <tr style=\"text-align: right;\">\n",
       "      <th></th>\n",
       "      <th>region</th>\n",
       "      <th>order_month</th>\n",
       "      <th>sales</th>\n",
       "      <th>profit</th>\n",
       "    </tr>\n",
       "  </thead>\n",
       "  <tbody>\n",
       "    <tr>\n",
       "      <th>0</th>\n",
       "      <td>central</td>\n",
       "      <td>2020-01</td>\n",
       "      <td>8366.32</td>\n",
       "      <td>431.08</td>\n",
       "    </tr>\n",
       "    <tr>\n",
       "      <th>1</th>\n",
       "      <td>central</td>\n",
       "      <td>2020-02</td>\n",
       "      <td>6631.29</td>\n",
       "      <td>544.76</td>\n",
       "    </tr>\n",
       "    <tr>\n",
       "      <th>2</th>\n",
       "      <td>central</td>\n",
       "      <td>2020-03</td>\n",
       "      <td>6689.80</td>\n",
       "      <td>61.89</td>\n",
       "    </tr>\n",
       "    <tr>\n",
       "      <th>3</th>\n",
       "      <td>central</td>\n",
       "      <td>2020-04</td>\n",
       "      <td>269.01</td>\n",
       "      <td>4.47</td>\n",
       "    </tr>\n",
       "    <tr>\n",
       "      <th>4</th>\n",
       "      <td>central</td>\n",
       "      <td>2020-05</td>\n",
       "      <td>6252.00</td>\n",
       "      <td>271.01</td>\n",
       "    </tr>\n",
       "  </tbody>\n",
       "</table>\n",
       "</div>"
      ],
      "text/plain": [
       "    region order_month    sales  profit\n",
       "0  central     2020-01  8366.32  431.08\n",
       "1  central     2020-02  6631.29  544.76\n",
       "2  central     2020-03  6689.80   61.89\n",
       "3  central     2020-04   269.01    4.47\n",
       "4  central     2020-05  6252.00  271.01"
      ]
     },
     "execution_count": 10,
     "metadata": {},
     "output_type": "execute_result"
    }
   ],
   "source": [
    "# Monthly Sales Summary by Region\n",
    "superstore = utils_io.load_csv(\"../assets/superstore_final.csv\")\n",
    "superstore[\"order_date\"] = pd.to_datetime(superstore[\"order_date\"])\n",
    "superstore[\"month\"] = superstore[\"order_date\"].dt.to_period(\"M\").astype(str)\n",
    "\n",
    "region_monthly_sales = (\n",
    "    superstore\n",
    "    .groupby([\"region\", \"month\"], as_index=False)\n",
    "    .agg({\"sales\": \"sum\", \"profit\": \"sum\"})\n",
    "    .rename(columns={\"month\": \"order_month\"})\n",
    ")\n",
    "\n",
    "region_monthly_sales.head()\n"
   ]
  },
  {
   "cell_type": "markdown",
   "id": "1c91b07f",
   "metadata": {},
   "source": [
    "### 🏥 5.2 Simulate Region-wise COVID Hospitalizations"
   ]
  },
  {
   "cell_type": "code",
   "execution_count": 11,
   "id": "34c2d654",
   "metadata": {},
   "outputs": [
    {
     "data": {
      "text/html": [
       "<div>\n",
       "<style scoped>\n",
       "    .dataframe tbody tr th:only-of-type {\n",
       "        vertical-align: middle;\n",
       "    }\n",
       "\n",
       "    .dataframe tbody tr th {\n",
       "        vertical-align: top;\n",
       "    }\n",
       "\n",
       "    .dataframe thead th {\n",
       "        text-align: right;\n",
       "    }\n",
       "</style>\n",
       "<table border=\"1\" class=\"dataframe\">\n",
       "  <thead>\n",
       "    <tr style=\"text-align: right;\">\n",
       "      <th></th>\n",
       "      <th>region</th>\n",
       "      <th>order_month</th>\n",
       "      <th>hospitalized</th>\n",
       "    </tr>\n",
       "  </thead>\n",
       "  <tbody>\n",
       "  </tbody>\n",
       "</table>\n",
       "</div>"
      ],
      "text/plain": [
       "Empty DataFrame\n",
       "Columns: [region, order_month, hospitalized]\n",
       "Index: []"
      ]
     },
     "execution_count": 11,
     "metadata": {},
     "output_type": "execute_result"
    }
   ],
   "source": [
    "# Add fake region assignments to covid data for demo\n",
    "region_map = {\n",
    "    \"USA\": \"West\",\n",
    "    \"India\": \"East\",\n",
    "    \"Brazil\": \"South\",\n",
    "    \"Germany\": \"North\",\n",
    "    \"Canada\": \"Central\"\n",
    "}\n",
    "\n",
    "covid[\"region\"] = covid[\"country\"].map(region_map)\n",
    "covid[\"order_month\"] = covid[\"date\"].dt.to_period(\"M\").astype(str)\n",
    "\n",
    "region_covid = (\n",
    "    covid\n",
    "    .groupby([\"region\", \"order_month\"], as_index=False)\n",
    "    .agg({\"hospitalized\": \"mean\"})\n",
    ")\n",
    "\n",
    "region_covid.head()"
   ]
  },
  {
   "cell_type": "markdown",
   "id": "528091ee",
   "metadata": {},
   "source": [
    "### 🔗 5.3 Merge on Multiple Keys (region + order_month)"
   ]
  },
  {
   "cell_type": "code",
   "execution_count": 12,
   "id": "8cb9fee6",
   "metadata": {},
   "outputs": [
    {
     "name": "stdout",
     "output_type": "stream",
     "text": [
      "✅ Merged on ['region', 'order_month'] using 'inner' join — shape: (0, 5)\n"
     ]
    },
    {
     "data": {
      "text/html": [
       "<div>\n",
       "<style scoped>\n",
       "    .dataframe tbody tr th:only-of-type {\n",
       "        vertical-align: middle;\n",
       "    }\n",
       "\n",
       "    .dataframe tbody tr th {\n",
       "        vertical-align: top;\n",
       "    }\n",
       "\n",
       "    .dataframe thead th {\n",
       "        text-align: right;\n",
       "    }\n",
       "</style>\n",
       "<table border=\"1\" class=\"dataframe\">\n",
       "  <thead>\n",
       "    <tr style=\"text-align: right;\">\n",
       "      <th></th>\n",
       "      <th>region</th>\n",
       "      <th>order_month</th>\n",
       "      <th>sales</th>\n",
       "      <th>profit</th>\n",
       "      <th>hospitalized</th>\n",
       "    </tr>\n",
       "  </thead>\n",
       "  <tbody>\n",
       "  </tbody>\n",
       "</table>\n",
       "</div>"
      ],
      "text/plain": [
       "Empty DataFrame\n",
       "Columns: [region, order_month, sales, profit, hospitalized]\n",
       "Index: []"
      ]
     },
     "execution_count": 12,
     "metadata": {},
     "output_type": "execute_result"
    }
   ],
   "source": [
    "# Merge Monthly Sales and Hospitalizations on Region & Month\n",
    "region_merged = agg_utils.safe_merge(\n",
    "    df1=region_monthly_sales,\n",
    "    df2=region_covid,\n",
    "    on=[\"region\", \"order_month\"],\n",
    "    how=\"inner\"\n",
    ")\n",
    "\n",
    "region_merged.sort_values(by=[\"region\", \"order_month\"]).head()"
   ]
  },
  {
   "cell_type": "markdown",
   "id": "f2e8b6a5",
   "metadata": {},
   "source": [
    "## 💡 6. Bonus Scenarios & Edge Case Handling\n",
    "In this section, we’ll explore tricky merging situations and how to handle them safely.\n",
    "\n",
    "### ❗ 6.1 Merge with Non-Overlapping Keys\n",
    "This simulates when join keys do not match between two DataFrames, resulting in an empty merge or unexpected behavior."
   ]
  },
  {
   "cell_type": "code",
   "execution_count": 13,
   "id": "8380cb2c",
   "metadata": {},
   "outputs": [
    {
     "name": "stdout",
     "output_type": "stream",
     "text": [
      "✅ Merged on ['customer_id'] using 'inner' join — shape: (0, 3)\n"
     ]
    },
    {
     "data": {
      "text/html": [
       "<div>\n",
       "<style scoped>\n",
       "    .dataframe tbody tr th:only-of-type {\n",
       "        vertical-align: middle;\n",
       "    }\n",
       "\n",
       "    .dataframe tbody tr th {\n",
       "        vertical-align: top;\n",
       "    }\n",
       "\n",
       "    .dataframe thead th {\n",
       "        text-align: right;\n",
       "    }\n",
       "</style>\n",
       "<table border=\"1\" class=\"dataframe\">\n",
       "  <thead>\n",
       "    <tr style=\"text-align: right;\">\n",
       "      <th></th>\n",
       "      <th>customer_id</th>\n",
       "      <th>region</th>\n",
       "      <th>loan_amount</th>\n",
       "    </tr>\n",
       "  </thead>\n",
       "  <tbody>\n",
       "  </tbody>\n",
       "</table>\n",
       "</div>"
      ],
      "text/plain": [
       "Empty DataFrame\n",
       "Columns: [customer_id, region, loan_amount]\n",
       "Index: []"
      ]
     },
     "execution_count": 13,
     "metadata": {},
     "output_type": "execute_result"
    }
   ],
   "source": [
    "# Simulate Failed Merge Due to Mismatched Keys\n",
    "# Create dummy key conflict\n",
    "loan = utils_io.load_csv(\"../assets/loan_final_all_regions.csv\")\n",
    "df_sales = superstore[[\"customer_id\", \"region\"]].drop_duplicates().copy()\n",
    "df_loan = loan[[\"customer_id\", \"loan_amount\"]].copy()\n",
    "\n",
    "# Force data type alignment for merge\n",
    "df_loan[\"customer_id\"] = df_loan[\"customer_id\"].astype(str)\n",
    "\n",
    "# Perform merge\n",
    "merged_conflict = agg_utils.safe_merge(\n",
    "    df1=df_sales,\n",
    "    df2=df_loan,\n",
    "    on=\"customer_id\",\n",
    "    suffixes=(\"_sales\", \"_loan\"),\n",
    "    how=\"inner\"\n",
    ")\n",
    "\n",
    "merged_conflict.head()\n"
   ]
  },
  {
   "cell_type": "markdown",
   "id": "40361779",
   "metadata": {},
   "source": [
    "### 🔀 6.2 Column Name Conflicts & Suffix Resolution\n",
    "Sometimes, both DataFrames have columns with the same name (but different values), requiring suffixes to distinguish them."
   ]
  },
  {
   "cell_type": "code",
   "execution_count": 14,
   "id": "9b4b3af9",
   "metadata": {},
   "outputs": [
    {
     "name": "stdout",
     "output_type": "stream",
     "text": [
      "✅ Merged on ['customer_id'] using 'inner' join — shape: (0, 3)\n"
     ]
    },
    {
     "data": {
      "text/html": [
       "<div>\n",
       "<style scoped>\n",
       "    .dataframe tbody tr th:only-of-type {\n",
       "        vertical-align: middle;\n",
       "    }\n",
       "\n",
       "    .dataframe tbody tr th {\n",
       "        vertical-align: top;\n",
       "    }\n",
       "\n",
       "    .dataframe thead th {\n",
       "        text-align: right;\n",
       "    }\n",
       "</style>\n",
       "<table border=\"1\" class=\"dataframe\">\n",
       "  <thead>\n",
       "    <tr style=\"text-align: right;\">\n",
       "      <th></th>\n",
       "      <th>customer_id</th>\n",
       "      <th>sales_store</th>\n",
       "      <th>sales_loan</th>\n",
       "    </tr>\n",
       "  </thead>\n",
       "  <tbody>\n",
       "  </tbody>\n",
       "</table>\n",
       "</div>"
      ],
      "text/plain": [
       "Empty DataFrame\n",
       "Columns: [customer_id, sales_store, sales_loan]\n",
       "Index: []"
      ]
     },
     "execution_count": 14,
     "metadata": {},
     "output_type": "execute_result"
    }
   ],
   "source": [
    "# Handle Conflicting Column Names Using Suffixes\n",
    "\n",
    "# Extract and rename for conflict simulation\n",
    "df1 = superstore[[\"customer_id\", \"sales\"]].copy()\n",
    "df2 = loan[[\"customer_id\", \"loan_amount\"]].copy()\n",
    "df2.rename(columns={\"loan_amount\": \"sales\"}, inplace=True)  # Intentional conflict\n",
    "\n",
    "# 🔧 Convert merge key to same type\n",
    "df1[\"customer_id\"] = df1[\"customer_id\"].astype(str)\n",
    "df2[\"customer_id\"] = df2[\"customer_id\"].astype(str)\n",
    "\n",
    "# ✅ Merge with suffixes to handle name conflict\n",
    "merged_suffix = agg_utils.safe_merge(\n",
    "    df1=df1,\n",
    "    df2=df2,\n",
    "    on=\"customer_id\",\n",
    "    suffixes=(\"_store\", \"_loan\"),\n",
    "    how=\"inner\"\n",
    ")\n",
    "\n",
    "# Preview result\n",
    "merged_suffix.head()"
   ]
  },
  {
   "cell_type": "markdown",
   "id": "43eca365",
   "metadata": {},
   "source": [
    "### 🧪 6.3 Defensive Merge with Type Coercion and Logging\n",
    "Test the built-in type-checking & logging from safe_merge() by merging mismatched types and enabling verbose=True."
   ]
  },
  {
   "cell_type": "code",
   "execution_count": 15,
   "id": "48fa362b",
   "metadata": {},
   "outputs": [],
   "source": [
    "# Safe Merge with Automatic Type Alignment\n",
    "df_loan[\"customer_id\"] = df_loan[\"customer_id\"].astype(str)"
   ]
  },
  {
   "cell_type": "markdown",
   "id": "fa7c600a",
   "metadata": {},
   "source": [
    "# ✅ Summary: Time Series Analysis in pandas\n",
    "\n",
    "In this notebook, we explored a range of techniques for working with **temporal data** in pandas, including:\n",
    "\n",
    "---\n",
    "\n",
    "### 📆 1. Datetime Handling & Indexing\n",
    "- Converted string-based date columns using `pd.to_datetime()`\n",
    "- Set the datetime column as index for efficient time-based operations\n",
    "\n",
    "---\n",
    "\n",
    "### 🔎 2. Date Feature Extraction\n",
    "- Extracted components like `.dt.year`, `.dt.month`, `.dt.day`, `.dt.weekday()`\n",
    "- Created custom flags like `is_weekend` for temporal feature engineering\n",
    "\n",
    "---\n",
    "\n",
    "### 📊 3. Time-Based Aggregation\n",
    "- Used `.groupby()` with `.dt.to_period(\"M\")` for monthly summaries\n",
    "- Compared with `.resample()` for continuous time intervals (e.g., monthly/weekly)\n",
    "\n",
    "---\n",
    "\n",
    "### 🔁 4. Rolling & Cumulative Metrics\n",
    "- Computed rolling mean of profit using `.rolling(window=3).mean()`\n",
    "- Generated cumulative sales with `.cumsum()` to track growth over time\n",
    "\n",
    "---\n",
    "\n",
    "### 🔗 5. Merging Time Series with External Data\n",
    "- Merged **sales data** with **COVID trends** on monthly basis\n",
    "- Combined **regional sales** with **regional hospitalizations**\n",
    "- Demonstrated **multi-key merging** (`[\"region\", \"order_month\"]`)\n",
    "\n",
    "---\n",
    "\n",
    "### 🚨 6. Defensive Programming for Merging\n",
    "- Handled merge issues like:\n",
    "  - Mismatched datatypes (`str` vs `int`)\n",
    "  - Non-overlapping keys\n",
    "  - Column name conflicts (resolved via suffixes)\n",
    "- Used `agg_utils.safe_merge()` for robust, type-safe joins with logging\n",
    "\n",
    "---\n",
    "\n",
    "### 📈 Key Takeaway:\n",
    "> Time series analysis in pandas isn't just about dates — it's about treating **time as a first-class citizen** for grouping, trend analysis, merging, and smoothing.\n",
    "\n",
    "---"
   ]
  }
 ],
 "metadata": {
  "kernelspec": {
   "display_name": "pandas_env",
   "language": "python",
   "name": "python3"
  },
  "language_info": {
   "codemirror_mode": {
    "name": "ipython",
    "version": 3
   },
   "file_extension": ".py",
   "mimetype": "text/x-python",
   "name": "python",
   "nbconvert_exporter": "python",
   "pygments_lexer": "ipython3",
   "version": "3.11.11"
  }
 },
 "nbformat": 4,
 "nbformat_minor": 5
}
