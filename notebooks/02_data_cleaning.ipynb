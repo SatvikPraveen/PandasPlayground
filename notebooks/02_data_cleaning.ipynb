{
 "cells": [
  {
   "cell_type": "markdown",
   "id": "8d3f32ad",
   "metadata": {},
   "source": [
    "# 🧩 Notebook 02: Data Cleaning and Preprocessing with pandas"
   ]
  },
  {
   "cell_type": "code",
   "execution_count": 1,
   "id": "09f3409b",
   "metadata": {},
   "outputs": [],
   "source": [
    "# Notebook import setup\n",
    "import sys\n",
    "from pathlib import Path\n",
    "\n",
    "PROJECT_ROOT = Path.cwd().parent\n",
    "if str(PROJECT_ROOT) not in sys.path:\n",
    "    sys.path.append(str(PROJECT_ROOT))\n",
    "\n",
    "from scripts import utils_io"
   ]
  },
  {
   "cell_type": "code",
   "execution_count": 2,
   "id": "65b32f0c",
   "metadata": {},
   "outputs": [],
   "source": [
    "# Standard imports\n",
    "import pandas as pd\n",
    "import numpy as np\n",
    "from pathlib import Path\n",
    "\n",
    "# Cleaning utilities from scripts folder\n",
    "from scripts.cleaning_utils import clean_dataframe, detect_outliers_iqr\n",
    "\n",
    "# Data path\n",
    "ASSETS_DIR = Path(\"../assets\")"
   ]
  },
  {
   "cell_type": "markdown",
   "id": "7ed1921d",
   "metadata": {},
   "source": [
    "## Superstore Cleaned CSV"
   ]
  },
  {
   "cell_type": "markdown",
   "id": "99a513ce",
   "metadata": {},
   "source": [
    "### 🧹 Load Superstore Cleaned CSV"
   ]
  },
  {
   "cell_type": "code",
   "execution_count": 3,
   "id": "fb84af7f",
   "metadata": {},
   "outputs": [
    {
     "data": {
      "text/html": [
       "<div>\n",
       "<style scoped>\n",
       "    .dataframe tbody tr th:only-of-type {\n",
       "        vertical-align: middle;\n",
       "    }\n",
       "\n",
       "    .dataframe tbody tr th {\n",
       "        vertical-align: top;\n",
       "    }\n",
       "\n",
       "    .dataframe thead th {\n",
       "        text-align: right;\n",
       "    }\n",
       "</style>\n",
       "<table border=\"1\" class=\"dataframe\">\n",
       "  <thead>\n",
       "    <tr style=\"text-align: right;\">\n",
       "      <th></th>\n",
       "      <th>order_id</th>\n",
       "      <th>customer_id</th>\n",
       "      <th>customer_name</th>\n",
       "      <th>segment</th>\n",
       "      <th>region</th>\n",
       "      <th>order_date</th>\n",
       "      <th>ship_date</th>\n",
       "      <th>category</th>\n",
       "      <th>sub_category</th>\n",
       "      <th>product_name</th>\n",
       "      <th>sales</th>\n",
       "      <th>quantity</th>\n",
       "      <th>discount</th>\n",
       "      <th>profit</th>\n",
       "    </tr>\n",
       "  </thead>\n",
       "  <tbody>\n",
       "    <tr>\n",
       "      <th>0</th>\n",
       "      <td>ORD-10000</td>\n",
       "      <td>CUST-9476</td>\n",
       "      <td>Mr. Michael Lopez</td>\n",
       "      <td>Home Office</td>\n",
       "      <td>Central</td>\n",
       "      <td>2020-01-01</td>\n",
       "      <td>2020-01-03</td>\n",
       "      <td>Furniture</td>\n",
       "      <td>Bookcases</td>\n",
       "      <td>Bookcases Model 1</td>\n",
       "      <td>1292.63</td>\n",
       "      <td>5</td>\n",
       "      <td>0.3</td>\n",
       "      <td>22.94</td>\n",
       "    </tr>\n",
       "    <tr>\n",
       "      <th>1</th>\n",
       "      <td>ORD-10001</td>\n",
       "      <td>CUST-9162</td>\n",
       "      <td>Robert Liu</td>\n",
       "      <td>Home Office</td>\n",
       "      <td>South</td>\n",
       "      <td>2020-01-02</td>\n",
       "      <td>2020-01-04</td>\n",
       "      <td>Furniture</td>\n",
       "      <td>Bookcases</td>\n",
       "      <td>Bookcases Model 2</td>\n",
       "      <td>1947.16</td>\n",
       "      <td>2</td>\n",
       "      <td>0.3</td>\n",
       "      <td>205.52</td>\n",
       "    </tr>\n",
       "    <tr>\n",
       "      <th>2</th>\n",
       "      <td>ORD-10002</td>\n",
       "      <td>CUST-3824</td>\n",
       "      <td>Nicole Bowman</td>\n",
       "      <td>Consumer</td>\n",
       "      <td>South</td>\n",
       "      <td>2020-01-03</td>\n",
       "      <td>2020-01-05</td>\n",
       "      <td>Furniture</td>\n",
       "      <td>Bookcases</td>\n",
       "      <td>Bookcases Model 3</td>\n",
       "      <td>1774.42</td>\n",
       "      <td>3</td>\n",
       "      <td>0.2</td>\n",
       "      <td>23.84</td>\n",
       "    </tr>\n",
       "    <tr>\n",
       "      <th>3</th>\n",
       "      <td>ORD-10003</td>\n",
       "      <td>CUST-8888</td>\n",
       "      <td>Stephen Flores</td>\n",
       "      <td>Consumer</td>\n",
       "      <td>Central</td>\n",
       "      <td>2020-01-04</td>\n",
       "      <td>2020-01-06</td>\n",
       "      <td>Furniture</td>\n",
       "      <td>Bookcases</td>\n",
       "      <td>Bookcases Model 4</td>\n",
       "      <td>591.01</td>\n",
       "      <td>8</td>\n",
       "      <td>0.0</td>\n",
       "      <td>64.85</td>\n",
       "    </tr>\n",
       "    <tr>\n",
       "      <th>4</th>\n",
       "      <td>ORD-10004</td>\n",
       "      <td>CUST-9980</td>\n",
       "      <td>Stephen Rodriguez</td>\n",
       "      <td>Corporate</td>\n",
       "      <td>South</td>\n",
       "      <td>2020-01-05</td>\n",
       "      <td>2020-01-07</td>\n",
       "      <td>Furniture</td>\n",
       "      <td>Bookcases</td>\n",
       "      <td>Bookcases Model 5</td>\n",
       "      <td>1969.55</td>\n",
       "      <td>4</td>\n",
       "      <td>0.2</td>\n",
       "      <td>58.99</td>\n",
       "    </tr>\n",
       "  </tbody>\n",
       "</table>\n",
       "</div>"
      ],
      "text/plain": [
       "    order_id customer_id      customer_name      segment   region  order_date  \\\n",
       "0  ORD-10000   CUST-9476  Mr. Michael Lopez  Home Office  Central  2020-01-01   \n",
       "1  ORD-10001   CUST-9162         Robert Liu  Home Office    South  2020-01-02   \n",
       "2  ORD-10002   CUST-3824      Nicole Bowman     Consumer    South  2020-01-03   \n",
       "3  ORD-10003   CUST-8888     Stephen Flores     Consumer  Central  2020-01-04   \n",
       "4  ORD-10004   CUST-9980  Stephen Rodriguez    Corporate    South  2020-01-05   \n",
       "\n",
       "    ship_date   category sub_category       product_name    sales  quantity  \\\n",
       "0  2020-01-03  Furniture    Bookcases  Bookcases Model 1  1292.63         5   \n",
       "1  2020-01-04  Furniture    Bookcases  Bookcases Model 2  1947.16         2   \n",
       "2  2020-01-05  Furniture    Bookcases  Bookcases Model 3  1774.42         3   \n",
       "3  2020-01-06  Furniture    Bookcases  Bookcases Model 4   591.01         8   \n",
       "4  2020-01-07  Furniture    Bookcases  Bookcases Model 5  1969.55         4   \n",
       "\n",
       "   discount  profit  \n",
       "0       0.3   22.94  \n",
       "1       0.3  205.52  \n",
       "2       0.2   23.84  \n",
       "3       0.0   64.85  \n",
       "4       0.2   58.99  "
      ]
     },
     "execution_count": 3,
     "metadata": {},
     "output_type": "execute_result"
    }
   ],
   "source": [
    "# Load cleaned Superstore data\n",
    "df = utils_io.load_csv(\"../assets/superstore_cleaned.csv\")\n",
    "df.head()"
   ]
  },
  {
   "cell_type": "markdown",
   "id": "91b307e9",
   "metadata": {},
   "source": [
    "### 🔍 Missing Value Analysis"
   ]
  },
  {
   "cell_type": "code",
   "execution_count": 4,
   "id": "9c579327",
   "metadata": {},
   "outputs": [
    {
     "data": {
      "text/html": [
       "<div>\n",
       "<style scoped>\n",
       "    .dataframe tbody tr th:only-of-type {\n",
       "        vertical-align: middle;\n",
       "    }\n",
       "\n",
       "    .dataframe tbody tr th {\n",
       "        vertical-align: top;\n",
       "    }\n",
       "\n",
       "    .dataframe thead th {\n",
       "        text-align: right;\n",
       "    }\n",
       "</style>\n",
       "<table border=\"1\" class=\"dataframe\">\n",
       "  <thead>\n",
       "    <tr style=\"text-align: right;\">\n",
       "      <th></th>\n",
       "      <th>Missing</th>\n",
       "      <th>Missing (%)</th>\n",
       "    </tr>\n",
       "  </thead>\n",
       "  <tbody>\n",
       "  </tbody>\n",
       "</table>\n",
       "</div>"
      ],
      "text/plain": [
       "Empty DataFrame\n",
       "Columns: [Missing, Missing (%)]\n",
       "Index: []"
      ]
     },
     "execution_count": 4,
     "metadata": {},
     "output_type": "execute_result"
    }
   ],
   "source": [
    "# Total and percentage missing\n",
    "missing = df.isnull().sum()\n",
    "missing_pct = (missing / len(df)) * 100\n",
    "missing_df = pd.DataFrame({\"Missing\": missing, \"Missing (%)\": missing_pct})\n",
    "missing_df[missing_df[\"Missing\"] > 0]"
   ]
  },
  {
   "cell_type": "markdown",
   "id": "a1b70d91",
   "metadata": {},
   "source": [
    "### 🧼 Handle Missing Values"
   ]
  },
  {
   "cell_type": "code",
   "execution_count": 5,
   "id": "61bb8a10",
   "metadata": {},
   "outputs": [],
   "source": [
    "# If any date or numerical column has NaNs (rare in this case)\n",
    "df['order_date'] = pd.to_datetime(df['order_date'], errors='coerce')\n",
    "df['ship_date'] = pd.to_datetime(df['ship_date'], errors='coerce')\n",
    "\n",
    "# Fill or drop rows with missing dates (example)\n",
    "df = df.dropna(subset=['order_date', 'ship_date'])  # or df.fillna(method='ffill')"
   ]
  },
  {
   "cell_type": "markdown",
   "id": "91ae78dd",
   "metadata": {},
   "source": [
    "### ✂️ Clean String Columns"
   ]
  },
  {
   "cell_type": "code",
   "execution_count": 6,
   "id": "c263282d",
   "metadata": {},
   "outputs": [],
   "source": [
    "# Clean up whitespace and casing for object/categorical columns\n",
    "string_cols = df.select_dtypes(include=['object', 'category']).columns\n",
    "\n",
    "for col in string_cols:\n",
    "    df[col] = df[col].astype(str).str.strip().str.lower().str.replace(r\"\\s+\", \" \", regex=True)"
   ]
  },
  {
   "cell_type": "markdown",
   "id": "2b555736",
   "metadata": {},
   "source": [
    "### 📄 Remove Duplicates"
   ]
  },
  {
   "cell_type": "code",
   "execution_count": 7,
   "id": "f897d053",
   "metadata": {},
   "outputs": [
    {
     "name": "stdout",
     "output_type": "stream",
     "text": [
      "Total duplicate rows: 0\n"
     ]
    }
   ],
   "source": [
    "# Check for duplicates\n",
    "print(\"Total duplicate rows:\", df.duplicated().sum())\n",
    "\n",
    "# Drop duplicates\n",
    "df = df.drop_duplicates()"
   ]
  },
  {
   "cell_type": "markdown",
   "id": "7e927d0e",
   "metadata": {},
   "source": [
    "### 🚨 Outlier Detection (IQR Method)"
   ]
  },
  {
   "cell_type": "code",
   "execution_count": 8,
   "id": "b46543a6",
   "metadata": {},
   "outputs": [
    {
     "name": "stdout",
     "output_type": "stream",
     "text": [
      "sales: 0 outliers\n",
      "profit: 371 outliers\n",
      "quantity: 0 outliers\n",
      "discount: 0 outliers\n"
     ]
    }
   ],
   "source": [
    "# Detect outliers in numeric columns using IQR\n",
    "numeric_cols = ['sales', 'profit', 'quantity', 'discount']\n",
    "\n",
    "for col in numeric_cols:\n",
    "    Q1 = df[col].quantile(0.25)\n",
    "    Q3 = df[col].quantile(0.75)\n",
    "    IQR = Q3 - Q1\n",
    "    lower = Q1 - 1.5 * IQR\n",
    "    upper = Q3 + 1.5 * IQR\n",
    "    outliers = df[(df[col] < lower) | (df[col] > upper)]\n",
    "    print(f\"{col}: {len(outliers)} outliers\")"
   ]
  },
  {
   "cell_type": "markdown",
   "id": "872c5a24",
   "metadata": {},
   "source": [
    "### Save Final Cleaned Superstore Data"
   ]
  },
  {
   "cell_type": "code",
   "execution_count": 9,
   "id": "3b9917e2",
   "metadata": {},
   "outputs": [],
   "source": [
    "# Saving the final cleaned dataset\n",
    "utils_io.save_csv(df, \"../assets/superstore_final.csv\")"
   ]
  },
  {
   "cell_type": "markdown",
   "id": "c36f46a6",
   "metadata": {},
   "source": [
    "## Weather Data"
   ]
  },
  {
   "cell_type": "code",
   "execution_count": 10,
   "id": "d6183cb9",
   "metadata": {},
   "outputs": [],
   "source": [
    "# Load\n",
    "weather_df = utils_io.load_csv(\"../assets/weather_cleaned.csv\")"
   ]
  },
  {
   "cell_type": "code",
   "execution_count": 11,
   "id": "4fdda4c5",
   "metadata": {},
   "outputs": [
    {
     "name": "stdout",
     "output_type": "stream",
     "text": [
      "<class 'pandas.core.frame.DataFrame'>\n",
      "RangeIndex: 10000 entries, 0 to 9999\n",
      "Data columns (total 4 columns):\n",
      " #   Column         Non-Null Count  Dtype \n",
      "---  ------         --------------  ----- \n",
      " 0   date           10000 non-null  object\n",
      " 1   temperature_c  10000 non-null  int64 \n",
      " 2   humidity       10000 non-null  int64 \n",
      " 3   condition      10000 non-null  object\n",
      "dtypes: int64(2), object(2)\n",
      "memory usage: 312.6+ KB\n",
      "Missing values: date             0\n",
      "temperature_c    0\n",
      "humidity         0\n",
      "condition        0\n",
      "dtype: int64\n"
     ]
    }
   ],
   "source": [
    "# Inspect\n",
    "weather_df.info()\n",
    "print(\"Missing values:\", weather_df.isnull().sum())"
   ]
  },
  {
   "cell_type": "code",
   "execution_count": 12,
   "id": "8b242b30",
   "metadata": {},
   "outputs": [],
   "source": [
    "# Clean\n",
    "weather_df = clean_dataframe(weather_df, drop_na_cols=['date'])"
   ]
  },
  {
   "cell_type": "code",
   "execution_count": 13,
   "id": "6aa9976f",
   "metadata": {},
   "outputs": [
    {
     "name": "stdout",
     "output_type": "stream",
     "text": [
      "Temperature outliers: 0\n"
     ]
    }
   ],
   "source": [
    "# Outliers\n",
    "outliers_temp = detect_outliers_iqr(weather_df, 'temperature_c')\n",
    "print(\"Temperature outliers:\", len(outliers_temp))"
   ]
  },
  {
   "cell_type": "code",
   "execution_count": 14,
   "id": "b3c9f070",
   "metadata": {},
   "outputs": [],
   "source": [
    "# Save\n",
    "utils_io.save_csv(weather_df, \"../assets/weather_final.csv\")"
   ]
  },
  {
   "cell_type": "markdown",
   "id": "32392165",
   "metadata": {},
   "source": [
    "## Bank Loan Data"
   ]
  },
  {
   "cell_type": "code",
   "execution_count": 15,
   "id": "6f26ea33",
   "metadata": {},
   "outputs": [],
   "source": [
    "# Load the dataset\n",
    "loan_df = utils_io.load_csv(\"../assets/loan_cleaned.csv\")"
   ]
  },
  {
   "cell_type": "code",
   "execution_count": 16,
   "id": "aeadab1d",
   "metadata": {},
   "outputs": [
    {
     "name": "stdout",
     "output_type": "stream",
     "text": [
      "<class 'pandas.core.frame.DataFrame'>\n",
      "RangeIndex: 10000 entries, 0 to 9999\n",
      "Data columns (total 7 columns):\n",
      " #   Column         Non-Null Count  Dtype \n",
      "---  ------         --------------  ----- \n",
      " 0   customer_id    10000 non-null  int64 \n",
      " 1   customer_name  10000 non-null  object\n",
      " 2   age            10000 non-null  int64 \n",
      " 3   income         10000 non-null  int64 \n",
      " 4   loan_amount    10000 non-null  int64 \n",
      " 5   loan_purpose   10000 non-null  object\n",
      " 6   approved       10000 non-null  object\n",
      "dtypes: int64(4), object(3)\n",
      "memory usage: 547.0+ KB\n",
      "Missing values: customer_id      0\n",
      "customer_name    0\n",
      "age              0\n",
      "income           0\n",
      "loan_amount      0\n",
      "loan_purpose     0\n",
      "approved         0\n",
      "dtype: int64\n"
     ]
    }
   ],
   "source": [
    "# Inspect\n",
    "loan_df.info()\n",
    "print(\"Missing values:\", loan_df.isnull().sum())"
   ]
  },
  {
   "cell_type": "code",
   "execution_count": 17,
   "id": "8980191c",
   "metadata": {},
   "outputs": [],
   "source": [
    "# Clean\n",
    "loan_df = clean_dataframe(loan_df, drop_na_cols=['income', 'loan_amount'])"
   ]
  },
  {
   "cell_type": "code",
   "execution_count": 18,
   "id": "da22e78b",
   "metadata": {},
   "outputs": [
    {
     "name": "stdout",
     "output_type": "stream",
     "text": [
      "Outliers — Income: 0, Loan: 0\n"
     ]
    }
   ],
   "source": [
    "# Outliers\n",
    "outliers_income = detect_outliers_iqr(loan_df, 'income')\n",
    "outliers_loan = detect_outliers_iqr(loan_df, 'loan_amount')\n",
    "print(f\"Outliers — Income: {len(outliers_income)}, Loan: {len(outliers_loan)}\")"
   ]
  },
  {
   "cell_type": "code",
   "execution_count": 19,
   "id": "7621d8d4",
   "metadata": {},
   "outputs": [],
   "source": [
    "# Save\n",
    "utils_io.save_csv(loan_df, \"../assets/loan_final.csv\")"
   ]
  },
  {
   "cell_type": "markdown",
   "id": "d52b6353",
   "metadata": {},
   "source": [
    "## Multi-Sheet Bank Loans (East)"
   ]
  },
  {
   "cell_type": "code",
   "execution_count": 20,
   "id": "1fe41d68",
   "metadata": {},
   "outputs": [],
   "source": [
    "# Load the dataset\n",
    "loan_east_df = utils_io.load_csv(\"../assets/loan_cleaned_east.csv\")"
   ]
  },
  {
   "cell_type": "code",
   "execution_count": 21,
   "id": "7af52ff8",
   "metadata": {},
   "outputs": [
    {
     "name": "stdout",
     "output_type": "stream",
     "text": [
      "<class 'pandas.core.frame.DataFrame'>\n",
      "RangeIndex: 10000 entries, 0 to 9999\n",
      "Data columns (total 8 columns):\n",
      " #   Column         Non-Null Count  Dtype \n",
      "---  ------         --------------  ----- \n",
      " 0   customer_id    10000 non-null  int64 \n",
      " 1   customer_name  10000 non-null  object\n",
      " 2   age            10000 non-null  int64 \n",
      " 3   income         10000 non-null  int64 \n",
      " 4   loan_amount    10000 non-null  int64 \n",
      " 5   loan_purpose   10000 non-null  object\n",
      " 6   approved       10000 non-null  object\n",
      " 7   region         10000 non-null  object\n",
      "dtypes: int64(4), object(4)\n",
      "memory usage: 625.1+ KB\n",
      "Missing values: customer_id      0\n",
      "customer_name    0\n",
      "age              0\n",
      "income           0\n",
      "loan_amount      0\n",
      "loan_purpose     0\n",
      "approved         0\n",
      "region           0\n",
      "dtype: int64\n"
     ]
    }
   ],
   "source": [
    "# Inspect\n",
    "loan_east_df.info()\n",
    "print(\"Missing values:\", loan_east_df.isnull().sum())"
   ]
  },
  {
   "cell_type": "code",
   "execution_count": 22,
   "id": "9ddf3853",
   "metadata": {},
   "outputs": [],
   "source": [
    "# Clean\n",
    "loan_east_df = clean_dataframe(loan_east_df, drop_na_cols=['income', 'loan_amount'])"
   ]
  },
  {
   "cell_type": "code",
   "execution_count": 23,
   "id": "2d7c2415",
   "metadata": {},
   "outputs": [
    {
     "name": "stdout",
     "output_type": "stream",
     "text": [
      "East Region – Income Outliers: 0\n"
     ]
    }
   ],
   "source": [
    "# Outliers\n",
    "outliers_income_east = detect_outliers_iqr(loan_east_df, 'income')\n",
    "print(\"East Region – Income Outliers:\", len(outliers_income_east))"
   ]
  },
  {
   "cell_type": "code",
   "execution_count": 24,
   "id": "a95ed0a3",
   "metadata": {},
   "outputs": [],
   "source": [
    "# Save\n",
    "utils_io.save_csv(loan_east_df, \"../assets/loan_final_east.csv\")"
   ]
  },
  {
   "cell_type": "markdown",
   "id": "fcc2122d",
   "metadata": {},
   "source": [
    "## Multi-Sheet Bank Loans (West)"
   ]
  },
  {
   "cell_type": "code",
   "execution_count": 25,
   "id": "54aa498e",
   "metadata": {},
   "outputs": [],
   "source": [
    "# Load the dataset\n",
    "loan_west_df = utils_io.load_csv(\"../assets/loan_cleaned_west.csv\")"
   ]
  },
  {
   "cell_type": "code",
   "execution_count": 26,
   "id": "de7dc8ef",
   "metadata": {},
   "outputs": [
    {
     "name": "stdout",
     "output_type": "stream",
     "text": [
      "<class 'pandas.core.frame.DataFrame'>\n",
      "RangeIndex: 10000 entries, 0 to 9999\n",
      "Data columns (total 8 columns):\n",
      " #   Column         Non-Null Count  Dtype \n",
      "---  ------         --------------  ----- \n",
      " 0   customer_id    10000 non-null  int64 \n",
      " 1   customer_name  10000 non-null  object\n",
      " 2   age            10000 non-null  int64 \n",
      " 3   income         10000 non-null  int64 \n",
      " 4   loan_amount    10000 non-null  int64 \n",
      " 5   loan_purpose   10000 non-null  object\n",
      " 6   approved       10000 non-null  object\n",
      " 7   region         10000 non-null  object\n",
      "dtypes: int64(4), object(4)\n",
      "memory usage: 625.1+ KB\n",
      "Missing values: customer_id      0\n",
      "customer_name    0\n",
      "age              0\n",
      "income           0\n",
      "loan_amount      0\n",
      "loan_purpose     0\n",
      "approved         0\n",
      "region           0\n",
      "dtype: int64\n"
     ]
    }
   ],
   "source": [
    "# Inspect\n",
    "loan_west_df.info()\n",
    "print(\"Missing values:\", loan_west_df.isnull().sum())"
   ]
  },
  {
   "cell_type": "code",
   "execution_count": 27,
   "id": "8ac2cc67",
   "metadata": {},
   "outputs": [],
   "source": [
    "# Clean\n",
    "loan_west_df = clean_dataframe(loan_west_df, drop_na_cols=['income', 'loan_amount'])"
   ]
  },
  {
   "cell_type": "code",
   "execution_count": 28,
   "id": "a9fe4793",
   "metadata": {},
   "outputs": [
    {
     "name": "stdout",
     "output_type": "stream",
     "text": [
      "West Region – Income Outliers: 0\n"
     ]
    }
   ],
   "source": [
    "# Outliers\n",
    "outliers_income_west = detect_outliers_iqr(loan_west_df, 'income')\n",
    "print(\"West Region – Income Outliers:\", len(outliers_income_west))"
   ]
  },
  {
   "cell_type": "code",
   "execution_count": 29,
   "id": "0477663d",
   "metadata": {},
   "outputs": [],
   "source": [
    "# Save\n",
    "utils_io.save_csv(loan_west_df, \"../assets/loan_final_west.csv\")"
   ]
  },
  {
   "cell_type": "markdown",
   "id": "63701582",
   "metadata": {},
   "source": [
    "## Multi-Sheet Bank Loans (North)"
   ]
  },
  {
   "cell_type": "code",
   "execution_count": 30,
   "id": "ddd4ec1b",
   "metadata": {},
   "outputs": [],
   "source": [
    "# Load the dataset\n",
    "loan_north_df = utils_io.load_csv(\"../assets/loan_cleaned_north.csv\")"
   ]
  },
  {
   "cell_type": "code",
   "execution_count": 31,
   "id": "4037d510",
   "metadata": {},
   "outputs": [
    {
     "name": "stdout",
     "output_type": "stream",
     "text": [
      "<class 'pandas.core.frame.DataFrame'>\n",
      "RangeIndex: 10000 entries, 0 to 9999\n",
      "Data columns (total 8 columns):\n",
      " #   Column         Non-Null Count  Dtype \n",
      "---  ------         --------------  ----- \n",
      " 0   customer_id    10000 non-null  int64 \n",
      " 1   customer_name  10000 non-null  object\n",
      " 2   age            10000 non-null  int64 \n",
      " 3   income         10000 non-null  int64 \n",
      " 4   loan_amount    10000 non-null  int64 \n",
      " 5   loan_purpose   10000 non-null  object\n",
      " 6   approved       10000 non-null  object\n",
      " 7   region         10000 non-null  object\n",
      "dtypes: int64(4), object(4)\n",
      "memory usage: 625.1+ KB\n",
      "Missing values: customer_id      0\n",
      "customer_name    0\n",
      "age              0\n",
      "income           0\n",
      "loan_amount      0\n",
      "loan_purpose     0\n",
      "approved         0\n",
      "region           0\n",
      "dtype: int64\n"
     ]
    }
   ],
   "source": [
    "# Inspect\n",
    "loan_north_df.info()\n",
    "print(\"Missing values:\", loan_north_df.isnull().sum())"
   ]
  },
  {
   "cell_type": "code",
   "execution_count": 32,
   "id": "0607e742",
   "metadata": {},
   "outputs": [],
   "source": [
    "# Clean\n",
    "loan_north_df = clean_dataframe(loan_north_df, drop_na_cols=['income', 'loan_amount'])"
   ]
  },
  {
   "cell_type": "code",
   "execution_count": 33,
   "id": "e405646c",
   "metadata": {},
   "outputs": [
    {
     "name": "stdout",
     "output_type": "stream",
     "text": [
      "North Region – Income Outliers: 0\n"
     ]
    }
   ],
   "source": [
    "# Outliers\n",
    "outliers_income_north = detect_outliers_iqr(loan_north_df, 'income')\n",
    "print(\"North Region – Income Outliers:\", len(outliers_income_north))"
   ]
  },
  {
   "cell_type": "code",
   "execution_count": 34,
   "id": "52109f92",
   "metadata": {},
   "outputs": [],
   "source": [
    "# Save\n",
    "utils_io.save_csv(loan_north_df, \"../assets/loan_final_north.csv\")"
   ]
  },
  {
   "cell_type": "markdown",
   "id": "697573cb",
   "metadata": {},
   "source": [
    "## Multi-Sheet Bank Loans (South)"
   ]
  },
  {
   "cell_type": "code",
   "execution_count": 35,
   "id": "580fa6c4",
   "metadata": {},
   "outputs": [],
   "source": [
    "# Load the dataset\n",
    "loan_south_df = utils_io.load_csv(\"../assets/loan_cleaned_south.csv\")"
   ]
  },
  {
   "cell_type": "code",
   "execution_count": 36,
   "id": "08aa4640",
   "metadata": {},
   "outputs": [
    {
     "name": "stdout",
     "output_type": "stream",
     "text": [
      "<class 'pandas.core.frame.DataFrame'>\n",
      "RangeIndex: 10000 entries, 0 to 9999\n",
      "Data columns (total 8 columns):\n",
      " #   Column         Non-Null Count  Dtype \n",
      "---  ------         --------------  ----- \n",
      " 0   customer_id    10000 non-null  int64 \n",
      " 1   customer_name  10000 non-null  object\n",
      " 2   age            10000 non-null  int64 \n",
      " 3   income         10000 non-null  int64 \n",
      " 4   loan_amount    10000 non-null  int64 \n",
      " 5   loan_purpose   10000 non-null  object\n",
      " 6   approved       10000 non-null  object\n",
      " 7   region         10000 non-null  object\n",
      "dtypes: int64(4), object(4)\n",
      "memory usage: 625.1+ KB\n",
      "Missing values: customer_id      0\n",
      "customer_name    0\n",
      "age              0\n",
      "income           0\n",
      "loan_amount      0\n",
      "loan_purpose     0\n",
      "approved         0\n",
      "region           0\n",
      "dtype: int64\n"
     ]
    }
   ],
   "source": [
    "# Inspect\n",
    "loan_south_df.info()\n",
    "print(\"Missing values:\", loan_south_df.isnull().sum())"
   ]
  },
  {
   "cell_type": "code",
   "execution_count": 37,
   "id": "bb63b9ae",
   "metadata": {},
   "outputs": [],
   "source": [
    "# Clean\n",
    "loan_south_df = clean_dataframe(loan_south_df, drop_na_cols=['income', 'loan_amount'])"
   ]
  },
  {
   "cell_type": "code",
   "execution_count": 38,
   "id": "3ec9f1ad",
   "metadata": {},
   "outputs": [
    {
     "name": "stdout",
     "output_type": "stream",
     "text": [
      "South Region – Income Outliers: 0\n"
     ]
    }
   ],
   "source": [
    "# Outlier\n",
    "outliers_income_south = detect_outliers_iqr(loan_south_df, 'income')\n",
    "print(\"South Region – Income Outliers:\", len(outliers_income_south))"
   ]
  },
  {
   "cell_type": "code",
   "execution_count": 39,
   "id": "1741fa49",
   "metadata": {},
   "outputs": [],
   "source": [
    "# Save\n",
    "utils_io.save_csv(loan_south_df, \"../assets/loan_final_south.csv\")"
   ]
  },
  {
   "cell_type": "markdown",
   "id": "8edce025",
   "metadata": {},
   "source": [
    "## COVID Data"
   ]
  },
  {
   "cell_type": "code",
   "execution_count": 40,
   "id": "9149ea01",
   "metadata": {},
   "outputs": [],
   "source": [
    "# Load the dataset\n",
    "covid_df = utils_io.load_csv(\"../assets/covid_cleaned.csv\")"
   ]
  },
  {
   "cell_type": "code",
   "execution_count": 41,
   "id": "fcfe5732",
   "metadata": {},
   "outputs": [
    {
     "name": "stdout",
     "output_type": "stream",
     "text": [
      "<class 'pandas.core.frame.DataFrame'>\n",
      "RangeIndex: 10000 entries, 0 to 9999\n",
      "Data columns (total 6 columns):\n",
      " #   Column        Non-Null Count  Dtype \n",
      "---  ------        --------------  ----- \n",
      " 0   date          10000 non-null  object\n",
      " 1   country       10000 non-null  object\n",
      " 2   variant       10000 non-null  object\n",
      " 3   new_cases     10000 non-null  int64 \n",
      " 4   new_deaths    10000 non-null  int64 \n",
      " 5   hospitalized  10000 non-null  int64 \n",
      "dtypes: int64(3), object(3)\n",
      "memory usage: 468.9+ KB\n",
      "Missing values: date            0\n",
      "country         0\n",
      "variant         0\n",
      "new_cases       0\n",
      "new_deaths      0\n",
      "hospitalized    0\n",
      "dtype: int64\n"
     ]
    }
   ],
   "source": [
    "# Inspect\n",
    "covid_df.info()\n",
    "print(\"Missing values:\", covid_df.isnull().sum())"
   ]
  },
  {
   "cell_type": "code",
   "execution_count": 42,
   "id": "06e0bf2a",
   "metadata": {},
   "outputs": [],
   "source": [
    "# Clean\n",
    "covid_df = clean_dataframe(covid_df, drop_na_cols=['date'])"
   ]
  },
  {
   "cell_type": "code",
   "execution_count": 43,
   "id": "31fe6279",
   "metadata": {},
   "outputs": [
    {
     "name": "stdout",
     "output_type": "stream",
     "text": [
      "COVID Outliers — Cases: 56, Deaths: 89\n"
     ]
    }
   ],
   "source": [
    "# Outlier\n",
    "outliers_cases = detect_outliers_iqr(covid_df, 'new_cases')\n",
    "outliers_deaths = detect_outliers_iqr(covid_df, 'new_deaths')\n",
    "print(f\"COVID Outliers — Cases: {len(outliers_cases)}, Deaths: {len(outliers_deaths)}\")"
   ]
  },
  {
   "cell_type": "code",
   "execution_count": 44,
   "id": "83e5db7a",
   "metadata": {},
   "outputs": [],
   "source": [
    "# Save\n",
    "utils_io.save_csv(covid_df, \"../assets/covid_final.csv\")"
   ]
  },
  {
   "cell_type": "markdown",
   "id": "2648895f",
   "metadata": {},
   "source": [
    "## ✅ Summary of Module 02: Data Cleaning\n",
    "\n",
    "We have now:\n",
    "\n",
    "- Cleaned and standardized **all 5 datasets**\n",
    "- Removed duplicates and handled missing values\n",
    "- Cleaned strings across object/categorical columns\n",
    "- Detected (but did not delete) outliers using the IQR method\n",
    "- Saved final cleaned files in `../assets/` for downstream analysis\n",
    "\n",
    "📦 Next up: Aggregation, grouping, and reshaping in `03_aggregation_grouping.ipynb`"
   ]
  }
 ],
 "metadata": {
  "kernelspec": {
   "display_name": "pandas_env",
   "language": "python",
   "name": "python3"
  },
  "language_info": {
   "codemirror_mode": {
    "name": "ipython",
    "version": 3
   },
   "file_extension": ".py",
   "mimetype": "text/x-python",
   "name": "python",
   "nbconvert_exporter": "python",
   "pygments_lexer": "ipython3",
   "version": "3.11.11"
  }
 },
 "nbformat": 4,
 "nbformat_minor": 5
}
