{
 "cells": [
  {
   "cell_type": "markdown",
   "id": "e533ae85",
   "metadata": {},
   "source": [
    "# 🧩 Notebook 10: Diagnose and optimize performance in pandas pipelines."
   ]
  },
  {
   "cell_type": "code",
   "execution_count": 1,
   "id": "18348ef4",
   "metadata": {},
   "outputs": [],
   "source": [
    "# Notebook import setup\n",
    "import sys\n",
    "from pathlib import Path\n",
    "\n",
    "PROJECT_ROOT = Path.cwd().parent\n",
    "if str(PROJECT_ROOT) not in sys.path:\n",
    "    sys.path.append(str(PROJECT_ROOT))\n",
    "\n",
    "from scripts import utils_io"
   ]
  },
  {
   "cell_type": "code",
   "execution_count": 2,
   "id": "97ff2ffb",
   "metadata": {},
   "outputs": [],
   "source": [
    "# Import Statements\n",
    "import pandas as pd\n",
    "import numpy as np\n",
    "from scripts import utils_io\n",
    "from scripts.optimize_memory import optimize_dataframe"
   ]
  },
  {
   "cell_type": "markdown",
   "id": "95ae1ea8",
   "metadata": {},
   "source": [
    "## 📂 Load Data"
   ]
  },
  {
   "cell_type": "code",
   "execution_count": 3,
   "id": "66fdbaf0",
   "metadata": {},
   "outputs": [],
   "source": [
    "superstore = utils_io.load_csv(\"../assets/superstore_final.csv\")\n",
    "loan = utils_io.load_csv(\"../assets/loan_final_all_regions.csv\")"
   ]
  },
  {
   "cell_type": "markdown",
   "id": "87b1e397",
   "metadata": {},
   "source": [
    "## # 🔍 Before Optimization: Memory Usage"
   ]
  },
  {
   "cell_type": "code",
   "execution_count": 4,
   "id": "fbaae7e6",
   "metadata": {},
   "outputs": [
    {
     "name": "stdout",
     "output_type": "stream",
     "text": [
      "Before Optimization – Superstore:\n",
      "<class 'pandas.core.frame.DataFrame'>\n",
      "RangeIndex: 10000 entries, 0 to 9999\n",
      "Data columns (total 14 columns):\n",
      " #   Column         Non-Null Count  Dtype  \n",
      "---  ------         --------------  -----  \n",
      " 0   order_id       10000 non-null  object \n",
      " 1   customer_id    10000 non-null  object \n",
      " 2   customer_name  10000 non-null  object \n",
      " 3   segment        10000 non-null  object \n",
      " 4   region         10000 non-null  object \n",
      " 5   order_date     10000 non-null  object \n",
      " 6   ship_date      10000 non-null  object \n",
      " 7   category       10000 non-null  object \n",
      " 8   sub_category   10000 non-null  object \n",
      " 9   product_name   10000 non-null  object \n",
      " 10  sales          10000 non-null  float64\n",
      " 11  quantity       10000 non-null  int64  \n",
      " 12  discount       10000 non-null  float64\n",
      " 13  profit         10000 non-null  float64\n",
      "dtypes: float64(3), int64(1), object(10)\n",
      "memory usage: 6.7 MB\n",
      "\n",
      "Before Optimization – Loan:\n",
      "<class 'pandas.core.frame.DataFrame'>\n",
      "RangeIndex: 40000 entries, 0 to 39999\n",
      "Data columns (total 8 columns):\n",
      " #   Column         Non-Null Count  Dtype \n",
      "---  ------         --------------  ----- \n",
      " 0   customer_id    40000 non-null  int64 \n",
      " 1   customer_name  40000 non-null  object\n",
      " 2   age            40000 non-null  int64 \n",
      " 3   income         40000 non-null  int64 \n",
      " 4   loan_amount    40000 non-null  int64 \n",
      " 5   loan_purpose   40000 non-null  object\n",
      " 6   approved       40000 non-null  object\n",
      " 7   region         40000 non-null  object\n",
      "dtypes: int64(4), object(4)\n",
      "memory usage: 10.9 MB\n"
     ]
    }
   ],
   "source": [
    "print(\"Before Optimization – Superstore:\")\n",
    "superstore.info(memory_usage=\"deep\")\n",
    "print(\"\\nBefore Optimization – Loan:\")\n",
    "loan.info(memory_usage=\"deep\")"
   ]
  },
  {
   "cell_type": "markdown",
   "id": "bdef660a",
   "metadata": {},
   "source": [
    "## 🧠 Optimize Memory Usage"
   ]
  },
  {
   "cell_type": "code",
   "execution_count": 5,
   "id": "c82a3bfe",
   "metadata": {},
   "outputs": [
    {
     "name": "stdout",
     "output_type": "stream",
     "text": [
      "📦 Memory usage BEFORE optimization:\n",
      "<class 'pandas.core.frame.DataFrame'>\n",
      "RangeIndex: 10000 entries, 0 to 9999\n",
      "Data columns (total 14 columns):\n",
      " #   Column         Non-Null Count  Dtype  \n",
      "---  ------         --------------  -----  \n",
      " 0   order_id       10000 non-null  object \n",
      " 1   customer_id    10000 non-null  object \n",
      " 2   customer_name  10000 non-null  object \n",
      " 3   segment        10000 non-null  object \n",
      " 4   region         10000 non-null  object \n",
      " 5   order_date     10000 non-null  object \n",
      " 6   ship_date      10000 non-null  object \n",
      " 7   category       10000 non-null  object \n",
      " 8   sub_category   10000 non-null  object \n",
      " 9   product_name   10000 non-null  object \n",
      " 10  sales          10000 non-null  float64\n",
      " 11  quantity       10000 non-null  int64  \n",
      " 12  discount       10000 non-null  float64\n",
      " 13  profit         10000 non-null  float64\n",
      "dtypes: float64(3), int64(1), object(10)\n",
      "memory usage: 6.7 MB\n",
      "\n",
      "✅ Memory usage AFTER optimization:\n",
      "<class 'pandas.core.frame.DataFrame'>\n",
      "RangeIndex: 10000 entries, 0 to 9999\n",
      "Data columns (total 14 columns):\n",
      " #   Column         Non-Null Count  Dtype  \n",
      "---  ------         --------------  -----  \n",
      " 0   order_id       10000 non-null  object \n",
      " 1   customer_id    10000 non-null  object \n",
      " 2   customer_name  10000 non-null  object \n",
      " 3   segment        10000 non-null  object \n",
      " 4   region         10000 non-null  object \n",
      " 5   order_date     10000 non-null  object \n",
      " 6   ship_date      10000 non-null  object \n",
      " 7   category       10000 non-null  object \n",
      " 8   sub_category   10000 non-null  object \n",
      " 9   product_name   10000 non-null  object \n",
      " 10  sales          10000 non-null  float32\n",
      " 11  quantity       10000 non-null  int8   \n",
      " 12  discount       10000 non-null  float32\n",
      " 13  profit         10000 non-null  float32\n",
      "dtypes: float32(3), int8(1), object(10)\n",
      "memory usage: 6.5 MB\n",
      "📦 Memory usage BEFORE optimization:\n",
      "<class 'pandas.core.frame.DataFrame'>\n",
      "RangeIndex: 40000 entries, 0 to 39999\n",
      "Data columns (total 8 columns):\n",
      " #   Column         Non-Null Count  Dtype \n",
      "---  ------         --------------  ----- \n",
      " 0   customer_id    40000 non-null  int64 \n",
      " 1   customer_name  40000 non-null  object\n",
      " 2   age            40000 non-null  int64 \n",
      " 3   income         40000 non-null  int64 \n",
      " 4   loan_amount    40000 non-null  int64 \n",
      " 5   loan_purpose   40000 non-null  object\n",
      " 6   approved       40000 non-null  object\n",
      " 7   region         40000 non-null  object\n",
      "dtypes: int64(4), object(4)\n",
      "memory usage: 10.9 MB\n",
      "\n",
      "✅ Memory usage AFTER optimization:\n",
      "<class 'pandas.core.frame.DataFrame'>\n",
      "RangeIndex: 40000 entries, 0 to 39999\n",
      "Data columns (total 8 columns):\n",
      " #   Column         Non-Null Count  Dtype \n",
      "---  ------         --------------  ----- \n",
      " 0   customer_id    40000 non-null  int16 \n",
      " 1   customer_name  40000 non-null  object\n",
      " 2   age            40000 non-null  int8  \n",
      " 3   income         40000 non-null  int32 \n",
      " 4   loan_amount    40000 non-null  int32 \n",
      " 5   loan_purpose   40000 non-null  object\n",
      " 6   approved       40000 non-null  object\n",
      " 7   region         40000 non-null  object\n",
      "dtypes: int16(1), int32(2), int8(1), object(4)\n",
      "memory usage: 10.1 MB\n",
      "\n",
      "After Optimization – Superstore:\n",
      "<class 'pandas.core.frame.DataFrame'>\n",
      "RangeIndex: 10000 entries, 0 to 9999\n",
      "Data columns (total 14 columns):\n",
      " #   Column         Non-Null Count  Dtype  \n",
      "---  ------         --------------  -----  \n",
      " 0   order_id       10000 non-null  object \n",
      " 1   customer_id    10000 non-null  object \n",
      " 2   customer_name  10000 non-null  object \n",
      " 3   segment        10000 non-null  object \n",
      " 4   region         10000 non-null  object \n",
      " 5   order_date     10000 non-null  object \n",
      " 6   ship_date      10000 non-null  object \n",
      " 7   category       10000 non-null  object \n",
      " 8   sub_category   10000 non-null  object \n",
      " 9   product_name   10000 non-null  object \n",
      " 10  sales          10000 non-null  float32\n",
      " 11  quantity       10000 non-null  int8   \n",
      " 12  discount       10000 non-null  float32\n",
      " 13  profit         10000 non-null  float32\n",
      "dtypes: float32(3), int8(1), object(10)\n",
      "memory usage: 6.5 MB\n",
      "\n",
      "After Optimization – Loan:\n",
      "<class 'pandas.core.frame.DataFrame'>\n",
      "RangeIndex: 40000 entries, 0 to 39999\n",
      "Data columns (total 8 columns):\n",
      " #   Column         Non-Null Count  Dtype \n",
      "---  ------         --------------  ----- \n",
      " 0   customer_id    40000 non-null  int16 \n",
      " 1   customer_name  40000 non-null  object\n",
      " 2   age            40000 non-null  int8  \n",
      " 3   income         40000 non-null  int32 \n",
      " 4   loan_amount    40000 non-null  int32 \n",
      " 5   loan_purpose   40000 non-null  object\n",
      " 6   approved       40000 non-null  object\n",
      " 7   region         40000 non-null  object\n",
      "dtypes: int16(1), int32(2), int8(1), object(4)\n",
      "memory usage: 10.1 MB\n"
     ]
    }
   ],
   "source": [
    "superstore = optimize_dataframe(\n",
    "    superstore,\n",
    "    category_cols=[\"Segment\", \"Region\", \"Category\", \"Sub-Category\", \"Ship Mode\"]\n",
    ")\n",
    "\n",
    "loan = optimize_dataframe(\n",
    "    loan,\n",
    "    category_cols=[\"Loan Type\", \"Customer Gender\"]\n",
    ")\n",
    "\n",
    "# 📈 After Optimization: Memory Usage\n",
    "print(\"\\nAfter Optimization – Superstore:\")\n",
    "superstore.info(memory_usage=\"deep\")\n",
    "print(\"\\nAfter Optimization – Loan:\")\n",
    "loan.info(memory_usage=\"deep\")"
   ]
  },
  {
   "cell_type": "markdown",
   "id": "a0424534",
   "metadata": {},
   "source": [
    "## 🧮 Use query() and eval() for performance"
   ]
  },
  {
   "cell_type": "code",
   "execution_count": 6,
   "id": "fcc6ee68",
   "metadata": {},
   "outputs": [
    {
     "name": "stdout",
     "output_type": "stream",
     "text": [
      "\n",
      "🔹 Rows with Sales > 500: 7528\n",
      "\n",
      "🔹 LoanToIncomeRatio head:\n",
      "   loan_amount  income  loan_to_income_ratio\n",
      "0        36890   96964              0.380450\n",
      "1        56517   59846              0.944374\n",
      "2        42857   43879              0.976709\n",
      "3        51149   27261              1.876270\n",
      "4        17337   53340              0.325028\n"
     ]
    }
   ],
   "source": [
    "# 🔹 query(): Efficient row filtering\n",
    "high_sales = superstore.query(\"sales > 500\")\n",
    "print(f\"\\n🔹 Rows with Sales > 500: {len(high_sales)}\")\n",
    "\n",
    "# 🔹 eval(): Faster expression evaluation\n",
    "loan.eval(\"loan_to_income_ratio = loan_amount / income\", inplace=True)\n",
    "print(\"\\n🔹 LoanToIncomeRatio head:\")\n",
    "print(loan[[\"loan_amount\", \"income\", \"loan_to_income_ratio\"]].head())"
   ]
  },
  {
   "cell_type": "markdown",
   "id": "9ee49452",
   "metadata": {},
   "source": [
    "## 🐍 Demonstrate Dask"
   ]
  },
  {
   "cell_type": "code",
   "execution_count": 7,
   "id": "c03d4a2b",
   "metadata": {},
   "outputs": [
    {
     "name": "stdout",
     "output_type": "stream",
     "text": [
      "\n",
      "✅ Dask DFrame Loaded. Preview:\n",
      "    order_id customer_id      customer_name      segment   region  order_date  \\\n",
      "0  ord-10000   cust-9476  mr. michael lopez  home office  central  2020-01-01   \n",
      "1  ord-10001   cust-9162         robert liu  home office    south  2020-01-02   \n",
      "2  ord-10002   cust-3824      nicole bowman     consumer    south  2020-01-03   \n",
      "3  ord-10003   cust-8888     stephen flores     consumer  central  2020-01-04   \n",
      "4  ord-10004   cust-9980  stephen rodriguez    corporate    south  2020-01-05   \n",
      "\n",
      "    ship_date   category sub_category       product_name    sales  quantity  \\\n",
      "0  2020-01-03  furniture    bookcases  bookcases model 1  1292.63         5   \n",
      "1  2020-01-04  furniture    bookcases  bookcases model 2  1947.16         2   \n",
      "2  2020-01-05  furniture    bookcases  bookcases model 3  1774.42         3   \n",
      "3  2020-01-06  furniture    bookcases  bookcases model 4   591.01         8   \n",
      "4  2020-01-07  furniture    bookcases  bookcases model 5  1969.55         4   \n",
      "\n",
      "   discount  profit  \n",
      "0       0.3   22.94  \n",
      "1       0.3  205.52  \n",
      "2       0.2   23.84  \n",
      "3       0.0   64.85  \n",
      "4       0.2   58.99  \n",
      "\n",
      "✅ Dask Aggregation Result:\n",
      "region\n",
      "central    49.146242\n",
      "east       50.096510\n",
      "south      49.617121\n",
      "west       50.062585\n",
      "Name: profit, dtype: float64\n",
      "✅ Exported CSV to: ../exports/superstore_optimized.csv\n",
      "✅ Exported CSV to: ../exports/loan_optimized.csv\n"
     ]
    }
   ],
   "source": [
    "try:\n",
    "    import dask.dataframe as dd\n",
    "\n",
    "    # Convert CSV to Dask DataFrame\n",
    "    ddf = dd.read_csv(\"../assets/superstore_final.csv\")\n",
    "    print(\"\\n✅ Dask DFrame Loaded. Preview:\")\n",
    "    print(ddf.head())\n",
    "\n",
    "    # Groupby using Dask\n",
    "    result = ddf.groupby(\"region\")[\"profit\"].mean().compute()\n",
    "    print(\"\\n✅ Dask Aggregation Result:\")\n",
    "    print(result)\n",
    "\n",
    "except ImportError:\n",
    "    print(\"\\n⚠️ Dask not installed. Run: pip install dask[complete]\")\n",
    "\n",
    "# ------------------------------------------------\n",
    "# 📤 Export Final Optimized Data (Optional)\n",
    "# ------------------------------------------------\n",
    "utils_io.export_csv(superstore, \"../exports/superstore_optimized.csv\")\n",
    "utils_io.export_csv(loan, \"../exports/loan_optimized.csv\")"
   ]
  },
  {
   "cell_type": "markdown",
   "id": "7e104f18",
   "metadata": {},
   "source": [
    "## 📘 Summary\n",
    "\n",
    "In this notebook, we diagnosed and improved the performance of our final merged dataset by:\n",
    "\n",
    "- Measuring memory usage with `.info(memory_usage=\"deep\")`\n",
    "- Reducing memory footprint using `category` and numeric downcasting\n",
    "- Using `.query()` and `.eval()` for readable, efficient filtering\n",
    "- Timing operations using `%timeit` and `%memit` (in Jupyter)\n",
    "- Briefly exploring `Dask` as a scalable alternative for large datasets\n",
    "\n",
    "🔁 This optimized dataset (`optimized_pipeline.csv`) is now ready for fast downstream analysis or deployment."
   ]
  }
 ],
 "metadata": {
  "kernelspec": {
   "display_name": "pandas_env",
   "language": "python",
   "name": "python3"
  },
  "language_info": {
   "codemirror_mode": {
    "name": "ipython",
    "version": 3
   },
   "file_extension": ".py",
   "mimetype": "text/x-python",
   "name": "python",
   "nbconvert_exporter": "python",
   "pygments_lexer": "ipython3",
   "version": "3.11.11"
  }
 },
 "nbformat": 4,
 "nbformat_minor": 5
}
